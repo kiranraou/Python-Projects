{
  "nbformat": 4,
  "nbformat_minor": 0,
  "metadata": {
    "colab": {
      "name": "DeepLearning_Assignment 2.ipynb",
      "provenance": [],
      "collapsed_sections": [],
      "authorship_tag": "ABX9TyOj/gx5bW5mXfhmfpSGaIUZ",
      "include_colab_link": true
    },
    "kernelspec": {
      "name": "python3",
      "display_name": "Python 3"
    },
    "language_info": {
      "name": "python"
    },
    "accelerator": "GPU"
  },
  "cells": [
    {
      "cell_type": "markdown",
      "metadata": {
        "id": "view-in-github",
        "colab_type": "text"
      },
      "source": [
        "<a href=\"https://colab.research.google.com/github/kiranraou/Python-Projects/blob/main/DeepLearning_Assignment_2.ipynb\" target=\"_parent\"><img src=\"https://colab.research.google.com/assets/colab-badge.svg\" alt=\"Open In Colab\"/></a>"
      ]
    },
    {
      "cell_type": "markdown",
      "metadata": {
        "id": "_UEkxLN9bpVV"
      },
      "source": [
        "**CNN Model - Face Images Dataset**"
      ]
    },
    {
      "cell_type": "markdown",
      "metadata": {
        "id": "8gC3rGW7cAPF"
      },
      "source": [
        "**Problem Statement** \n",
        "\n",
        "*The Faces have been automatically registered so that the face is\n",
        "more or less centred and occupies about the same amount of space \n",
        "in each image. The task is to categorize each face based on the \n",
        "emotion shown in the facial expression into one of seven categories \n",
        "(0=Angry, 1=Disgust, 2=Fear, 3=Happy, 4=Sad, 5=Surprise, \n",
        "6=Neutral)*"
      ]
    },
    {
      "cell_type": "markdown",
      "metadata": {
        "id": "3ljNnTEmcZiN"
      },
      "source": [
        "**Dataset Description**"
      ]
    },
    {
      "cell_type": "markdown",
      "metadata": {
        "id": "pvBxjoY5cdJQ"
      },
      "source": [
        "Dataset Path >  https://drive.google.com/file/d/1oLGjrOgx17ZPnHSu33MRCibxB-LXPbH1/view?usp=sharing"
      ]
    },
    {
      "cell_type": "markdown",
      "metadata": {
        "id": "CHNBZWZFcm3v"
      },
      "source": [
        "-->> *Total Images: The Dataset consists of 28,709 examples*\n",
        "\n",
        "-->> *Fer.csv contains 2 columns, \"Emotion \" and \"Pixels\".*\n",
        "\n",
        "-->> *The emotion column contains a numeric \n",
        "code ranging from 0 to 6, inclusive, for the emotion that is present in the image*\n",
        "\n",
        "-->> *The pixels column contains a string surrounded in quotes for each image. The contents of this string a space-separated pixel values in row major order.*\n",
        "\n",
        "-->> *This dataset was prepared by Pierre-Luc Carrier and Aaron Courville, as part of an ongoing research project.*\n"
      ]
    },
    {
      "cell_type": "markdown",
      "metadata": {
        "id": "MpbrZdypenzI"
      },
      "source": [
        "**Selecting Tensorflow v2 -- Applicable only for Google Colab**"
      ]
    },
    {
      "cell_type": "code",
      "metadata": {
        "id": "Dj4k-8dGel4-",
        "colab": {
          "base_uri": "https://localhost:8080/"
        },
        "outputId": "3795da02-2458-4e75-d4f2-60eb66c3e66a"
      },
      "source": [
        "%tensorflow_version 1.x"
      ],
      "execution_count": 1,
      "outputs": [
        {
          "output_type": "stream",
          "text": [
            "TensorFlow 1.x selected.\n"
          ],
          "name": "stdout"
        }
      ]
    },
    {
      "cell_type": "markdown",
      "metadata": {
        "id": "cVG2ic2PgDo5"
      },
      "source": [
        "**Mounting Google Drive**"
      ]
    },
    {
      "cell_type": "code",
      "metadata": {
        "colab": {
          "base_uri": "https://localhost:8080/"
        },
        "id": "PH6e8uQUew7d",
        "outputId": "ae48c45a-3676-4f0d-8842-705f49070654"
      },
      "source": [
        "from google.colab import drive\n",
        "drive.mount(\"/content/drive\", force_remount=True)\n"
      ],
      "execution_count": 3,
      "outputs": [
        {
          "output_type": "stream",
          "text": [
            "Mounted at /content/drive\n"
          ],
          "name": "stdout"
        }
      ]
    },
    {
      "cell_type": "code",
      "metadata": {
        "id": "SaLXR1OAgMRL",
        "colab": {
          "base_uri": "https://localhost:8080/"
        },
        "outputId": "fdfeea49-0a14-4726-d330-81f2f3cbb85c"
      },
      "source": [
        "import warnings\n",
        "warnings.filterwarnings('ignore')\n",
        "\n",
        "import numpy as np\n",
        "import pandas as pd\n",
        "import matplotlib.pyplot as plt\n",
        "import seaborn as sns\n",
        "from sklearn.metrics import classification_report, confusion_matrix\n",
        "\n",
        "import tensorflow as tf\n",
        "from tensorflow.keras.utils import to_categorical\n",
        "from keras.callbacks import EarlyStopping\n",
        "from keras.models import Sequential\n",
        "from keras.layers import Dense, Dropout, Activation, Flatten\n",
        "from keras.layers import Conv2D, MaxPooling2D, BatchNormalization\n",
        "from keras.losses import categorical_crossentropy\n",
        "from sklearn.metrics import accuracy_score\n",
        "from keras.optimizers import Adam\n",
        "from keras.regularizers import l2\n",
        "from keras.preprocessing.image import ImageDataGenerator"
      ],
      "execution_count": 4,
      "outputs": [
        {
          "output_type": "stream",
          "text": [
            "Using TensorFlow backend.\n"
          ],
          "name": "stderr"
        }
      ]
    },
    {
      "cell_type": "markdown",
      "metadata": {
        "id": "l02E2eMsiycB"
      },
      "source": [
        "**Importing Dataset into DataFrame**"
      ]
    },
    {
      "cell_type": "code",
      "metadata": {
        "id": "nX323X3tisTF"
      },
      "source": [
        "data = pd.read_csv(\n",
        "    '/content/drive/MyDrive/NIT Warangal _Industry Project/fer2013.csv')"
      ],
      "execution_count": 5,
      "outputs": []
    },
    {
      "cell_type": "code",
      "metadata": {
        "colab": {
          "base_uri": "https://localhost:8080/",
          "height": 191
        },
        "id": "rUFOqVUjjOYJ",
        "outputId": "a450a975-222f-45d7-a493-85033e6a3814"
      },
      "source": [
        "data.head()"
      ],
      "execution_count": 6,
      "outputs": [
        {
          "output_type": "execute_result",
          "data": {
            "text/html": [
              "<div>\n",
              "<style scoped>\n",
              "    .dataframe tbody tr th:only-of-type {\n",
              "        vertical-align: middle;\n",
              "    }\n",
              "\n",
              "    .dataframe tbody tr th {\n",
              "        vertical-align: top;\n",
              "    }\n",
              "\n",
              "    .dataframe thead th {\n",
              "        text-align: right;\n",
              "    }\n",
              "</style>\n",
              "<table border=\"1\" class=\"dataframe\">\n",
              "  <thead>\n",
              "    <tr style=\"text-align: right;\">\n",
              "      <th></th>\n",
              "      <th>emotion</th>\n",
              "      <th>pixels</th>\n",
              "      <th>Usage</th>\n",
              "    </tr>\n",
              "  </thead>\n",
              "  <tbody>\n",
              "    <tr>\n",
              "      <th>0</th>\n",
              "      <td>0</td>\n",
              "      <td>70 80 82 72 58 58 60 63 54 58 60 48 89 115 121...</td>\n",
              "      <td>Training</td>\n",
              "    </tr>\n",
              "    <tr>\n",
              "      <th>1</th>\n",
              "      <td>0</td>\n",
              "      <td>151 150 147 155 148 133 111 140 170 174 182 15...</td>\n",
              "      <td>Training</td>\n",
              "    </tr>\n",
              "    <tr>\n",
              "      <th>2</th>\n",
              "      <td>2</td>\n",
              "      <td>231 212 156 164 174 138 161 173 182 200 106 38...</td>\n",
              "      <td>Training</td>\n",
              "    </tr>\n",
              "    <tr>\n",
              "      <th>3</th>\n",
              "      <td>4</td>\n",
              "      <td>24 32 36 30 32 23 19 20 30 41 21 22 32 34 21 1...</td>\n",
              "      <td>Training</td>\n",
              "    </tr>\n",
              "    <tr>\n",
              "      <th>4</th>\n",
              "      <td>6</td>\n",
              "      <td>4 0 0 0 0 0 0 0 0 0 0 0 3 15 23 28 48 50 58 84...</td>\n",
              "      <td>Training</td>\n",
              "    </tr>\n",
              "  </tbody>\n",
              "</table>\n",
              "</div>"
            ],
            "text/plain": [
              "   emotion                                             pixels     Usage\n",
              "0        0  70 80 82 72 58 58 60 63 54 58 60 48 89 115 121...  Training\n",
              "1        0  151 150 147 155 148 133 111 140 170 174 182 15...  Training\n",
              "2        2  231 212 156 164 174 138 161 173 182 200 106 38...  Training\n",
              "3        4  24 32 36 30 32 23 19 20 30 41 21 22 32 34 21 1...  Training\n",
              "4        6  4 0 0 0 0 0 0 0 0 0 0 0 3 15 23 28 48 50 58 84...  Training"
            ]
          },
          "metadata": {
            "tags": []
          },
          "execution_count": 6
        }
      ]
    },
    {
      "cell_type": "code",
      "metadata": {
        "colab": {
          "base_uri": "https://localhost:8080/",
          "height": 191
        },
        "id": "0gLqf-zXjVXR",
        "outputId": "533695ef-3fa4-4ae3-be14-d8026927340e"
      },
      "source": [
        "data.tail()"
      ],
      "execution_count": 7,
      "outputs": [
        {
          "output_type": "execute_result",
          "data": {
            "text/html": [
              "<div>\n",
              "<style scoped>\n",
              "    .dataframe tbody tr th:only-of-type {\n",
              "        vertical-align: middle;\n",
              "    }\n",
              "\n",
              "    .dataframe tbody tr th {\n",
              "        vertical-align: top;\n",
              "    }\n",
              "\n",
              "    .dataframe thead th {\n",
              "        text-align: right;\n",
              "    }\n",
              "</style>\n",
              "<table border=\"1\" class=\"dataframe\">\n",
              "  <thead>\n",
              "    <tr style=\"text-align: right;\">\n",
              "      <th></th>\n",
              "      <th>emotion</th>\n",
              "      <th>pixels</th>\n",
              "      <th>Usage</th>\n",
              "    </tr>\n",
              "  </thead>\n",
              "  <tbody>\n",
              "    <tr>\n",
              "      <th>35882</th>\n",
              "      <td>6</td>\n",
              "      <td>50 36 17 22 23 29 33 39 34 37 37 37 39 43 48 5...</td>\n",
              "      <td>PrivateTest</td>\n",
              "    </tr>\n",
              "    <tr>\n",
              "      <th>35883</th>\n",
              "      <td>3</td>\n",
              "      <td>178 174 172 173 181 188 191 194 196 199 200 20...</td>\n",
              "      <td>PrivateTest</td>\n",
              "    </tr>\n",
              "    <tr>\n",
              "      <th>35884</th>\n",
              "      <td>0</td>\n",
              "      <td>17 17 16 23 28 22 19 17 25 26 20 24 31 19 27 9...</td>\n",
              "      <td>PrivateTest</td>\n",
              "    </tr>\n",
              "    <tr>\n",
              "      <th>35885</th>\n",
              "      <td>3</td>\n",
              "      <td>30 28 28 29 31 30 42 68 79 81 77 67 67 71 63 6...</td>\n",
              "      <td>PrivateTest</td>\n",
              "    </tr>\n",
              "    <tr>\n",
              "      <th>35886</th>\n",
              "      <td>2</td>\n",
              "      <td>19 13 14 12 13 16 21 33 50 57 71 84 97 108 122...</td>\n",
              "      <td>PrivateTest</td>\n",
              "    </tr>\n",
              "  </tbody>\n",
              "</table>\n",
              "</div>"
            ],
            "text/plain": [
              "       emotion                                             pixels        Usage\n",
              "35882        6  50 36 17 22 23 29 33 39 34 37 37 37 39 43 48 5...  PrivateTest\n",
              "35883        3  178 174 172 173 181 188 191 194 196 199 200 20...  PrivateTest\n",
              "35884        0  17 17 16 23 28 22 19 17 25 26 20 24 31 19 27 9...  PrivateTest\n",
              "35885        3  30 28 28 29 31 30 42 68 79 81 77 67 67 71 63 6...  PrivateTest\n",
              "35886        2  19 13 14 12 13 16 21 33 50 57 71 84 97 108 122...  PrivateTest"
            ]
          },
          "metadata": {
            "tags": []
          },
          "execution_count": 7
        }
      ]
    },
    {
      "cell_type": "code",
      "metadata": {
        "id": "ZG4cd7b9jfz9"
      },
      "source": [
        "emotion_map = {0: 'Angry', \n",
        "               1: 'Digust', \n",
        "               2: 'Fear',\n",
        "               3: 'Happy', \n",
        "               4: 'Sad', \n",
        "               5: 'Surprise', \n",
        "               6: 'Neutral'\n",
        "              }"
      ],
      "execution_count": 8,
      "outputs": []
    },
    {
      "cell_type": "code",
      "metadata": {
        "colab": {
          "base_uri": "https://localhost:8080/",
          "height": 248
        },
        "id": "H-zQnjgbjmf6",
        "outputId": "f5916eec-f9af-4506-e9f8-c773f8967d65"
      },
      "source": [
        "emotion_counts = data['emotion'].value_counts(sort=False).reset_index()\n",
        "emotion_counts.columns = ['emotion', 'number']\n",
        "emotion_counts['emotion'] = emotion_counts['emotion'].map(emotion_map)\n",
        "emotion_counts"
      ],
      "execution_count": 9,
      "outputs": [
        {
          "output_type": "execute_result",
          "data": {
            "text/html": [
              "<div>\n",
              "<style scoped>\n",
              "    .dataframe tbody tr th:only-of-type {\n",
              "        vertical-align: middle;\n",
              "    }\n",
              "\n",
              "    .dataframe tbody tr th {\n",
              "        vertical-align: top;\n",
              "    }\n",
              "\n",
              "    .dataframe thead th {\n",
              "        text-align: right;\n",
              "    }\n",
              "</style>\n",
              "<table border=\"1\" class=\"dataframe\">\n",
              "  <thead>\n",
              "    <tr style=\"text-align: right;\">\n",
              "      <th></th>\n",
              "      <th>emotion</th>\n",
              "      <th>number</th>\n",
              "    </tr>\n",
              "  </thead>\n",
              "  <tbody>\n",
              "    <tr>\n",
              "      <th>0</th>\n",
              "      <td>Angry</td>\n",
              "      <td>4953</td>\n",
              "    </tr>\n",
              "    <tr>\n",
              "      <th>1</th>\n",
              "      <td>Digust</td>\n",
              "      <td>547</td>\n",
              "    </tr>\n",
              "    <tr>\n",
              "      <th>2</th>\n",
              "      <td>Fear</td>\n",
              "      <td>5121</td>\n",
              "    </tr>\n",
              "    <tr>\n",
              "      <th>3</th>\n",
              "      <td>Happy</td>\n",
              "      <td>8989</td>\n",
              "    </tr>\n",
              "    <tr>\n",
              "      <th>4</th>\n",
              "      <td>Sad</td>\n",
              "      <td>6077</td>\n",
              "    </tr>\n",
              "    <tr>\n",
              "      <th>5</th>\n",
              "      <td>Surprise</td>\n",
              "      <td>4002</td>\n",
              "    </tr>\n",
              "    <tr>\n",
              "      <th>6</th>\n",
              "      <td>Neutral</td>\n",
              "      <td>6198</td>\n",
              "    </tr>\n",
              "  </tbody>\n",
              "</table>\n",
              "</div>"
            ],
            "text/plain": [
              "    emotion  number\n",
              "0     Angry    4953\n",
              "1    Digust     547\n",
              "2      Fear    5121\n",
              "3     Happy    8989\n",
              "4       Sad    6077\n",
              "5  Surprise    4002\n",
              "6   Neutral    6198"
            ]
          },
          "metadata": {
            "tags": []
          },
          "execution_count": 9
        }
      ]
    },
    {
      "cell_type": "markdown",
      "metadata": {
        "id": "HQUPisKEjtKD"
      },
      "source": [
        "***Plotting graph**"
      ]
    },
    {
      "cell_type": "code",
      "metadata": {
        "colab": {
          "base_uri": "https://localhost:8080/",
          "height": 297
        },
        "id": "IGtnfTQQjooj",
        "outputId": "803046ba-c26a-4819-f6a5-9982b6927c51"
      },
      "source": [
        "plt.figure(figsize=(6,4))\n",
        "sns.barplot(emotion_counts.emotion, emotion_counts.number)\n",
        "plt.title('Class distribution')\n",
        "plt.ylabel('Number', fontsize=12)\n",
        "plt.xlabel('Emotions', fontsize=12)\n",
        "plt.show()"
      ],
      "execution_count": 10,
      "outputs": [
        {
          "output_type": "display_data",
          "data": {
            "image/png": "[encoded data removed]",
            "text/plain": [
              "<Figure size 432x288 with 1 Axes>"
            ]
          },
          "metadata": {
            "tags": [],
            "needs_background": "light"
          }
        }
      ]
    },
    {
      "cell_type": "markdown",
      "metadata": {
        "id": "Vy26WLbDkcGN"
      },
      "source": [
        "**Splitting data**"
      ]
    },
    {
      "cell_type": "code",
      "metadata": {
        "colab": {
          "base_uri": "https://localhost:8080/"
        },
        "id": "RDDwXVe-kkaX",
        "outputId": "3bacecd9-5392-402c-a629-a1b39fce5056"
      },
      "source": [
        "data_train = data[data['Usage'] == 'Training'].copy()\n",
        "data_val = data[data['Usage'] == 'PublicTest'].copy()\n",
        "data_test = data[data['Usage'] == 'PrivateTest'].copy()\n",
        "\n",
        "print('Train data shape: {}, \\n Validation data shape: {}, \\nTest data shape: {}'.format(\n",
        "    data_train.shape, data_val.shape, data_test.shape))"
      ],
      "execution_count": 11,
      "outputs": [
        {
          "output_type": "stream",
          "text": [
            "Train data shape: (28709, 3), \n",
            " Validation data shape: (3589, 3), \n",
            "Test data shape: (3589, 3)\n"
          ],
          "name": "stdout"
        }
      ]
    },
    {
      "cell_type": "code",
      "metadata": {
        "id": "q6y0IfgqkJSB"
      },
      "source": [
        "##Hyper-Parameters\n",
        "num_classes = 7 \n",
        "width, height = 48, 48\n",
        "num_epochs = 20\n",
        "batch_size = 64\n",
        "num_features = 64"
      ],
      "execution_count": 12,
      "outputs": []
    },
    {
      "cell_type": "markdown",
      "metadata": {
        "id": "tDy_PBmDlnBV"
      },
      "source": [
        "**Converting,Reshaping,Normalizing and doing One-Hot encoding."
      ]
    },
    {
      "cell_type": "code",
      "metadata": {
        "colab": {
          "base_uri": "https://localhost:8080/"
        },
        "id": "TSt3LtPQl-F2",
        "outputId": "ee2949f9-73ff-4f34-e45b-0bf31044d30e"
      },
      "source": [
        "def CRNO(df, dataName):\n",
        "    df['pixels'] = df['pixels'].apply(lambda pixel_sequence: [int(pixel) for pixel in pixel_sequence.split()])\n",
        "    data_X = np.array(df['pixels'].tolist(), dtype='float32').reshape(-1,width, height,1)/255.0   \n",
        "    data_Y = to_categorical(df['emotion'], num_classes)  \n",
        "    print(dataName, '_X shape: {}, ', dataName, '_Y shape: {}'.format(data_X.shape, data_Y.shape))\n",
        "    return data_X, data_Y\n",
        "\n",
        "# training data    \n",
        "train_X, train_Y = CRNO(data_train, 'Train') \n",
        "\n",
        "# validation data\n",
        "val_X, val_Y     = CRNO(data_val, 'Validation') \n",
        "\n",
        "# test data\n",
        "test_X, test_Y   = CRNO(data_test, 'Test')"
      ],
      "execution_count": 13,
      "outputs": [
        {
          "output_type": "stream",
          "text": [
            "Train _X shape: {},  Train _Y shape: (28709, 48, 48, 1)\n",
            "Validation _X shape: {},  Validation _Y shape: (3589, 48, 48, 1)\n",
            "Test _X shape: {},  Test _Y shape: (3589, 48, 48, 1)\n"
          ],
          "name": "stdout"
        }
      ]
    },
    {
      "cell_type": "markdown",
      "metadata": {
        "id": "ol48X4T7mXyy"
      },
      "source": [
        "**Building CNN Model**"
      ]
    },
    {
      "cell_type": "code",
      "metadata": {
        "id": "Oi7EU0pGmO8T"
      },
      "source": [
        "model = Sequential()\n",
        "\n",
        "# module 1 - filter = num_features = 64\n",
        "model.add(Conv2D(num_features, kernel_size=(\n",
        "    5, 5), input_shape=(width, height, 1)))\n",
        "\n",
        "model.add(BatchNormalization())\n",
        "model.add(Activation('relu'))\n",
        "model.add(Conv2D(num_features, kernel_size=(5, 5), padding='same'))\n",
        "model.add(BatchNormalization())\n",
        "model.add(Activation('relu'))\n",
        "model.add(MaxPooling2D(pool_size=(2, 2), strides=(2, 2)))\n",
        "\n",
        "# module 2 - filter = 2*num_features = 128\n",
        "model.add(Conv2D(2*num_features, kernel_size=(5, 5), padding='same'))\n",
        "model.add(BatchNormalization())\n",
        "model.add(Activation('relu'))\n",
        "model.add(Conv2D(2*num_features, kernel_size=(5, 5), padding='same'))\n",
        "model.add(BatchNormalization())\n",
        "model.add(Activation('relu'))\n",
        "model.add(MaxPooling2D(pool_size=(2, 2), strides=(2, 2)))\n",
        "\n",
        "# module 3 - filter = 2*2*num_features = 256\n",
        "model.add(Conv2D(2*2*num_features, kernel_size=(3, 3), padding='same'))\n",
        "model.add(BatchNormalization())\n",
        "model.add(Activation('relu'))\n",
        "model.add(Conv2D(2*2*num_features, kernel_size=(3, 3), padding='same'))\n",
        "model.add(BatchNormalization())\n",
        "model.add(Activation('relu'))\n",
        "model.add(MaxPooling2D(pool_size=(2, 2), strides=(2, 2)))\n",
        "\n",
        "# flatten\n",
        "model.add(Flatten())\n",
        "\n",
        "#dense 1\n",
        "model.add(Dense(2*2*2*num_features))\n",
        "model.add(BatchNormalization())\n",
        "model.add(Activation('relu'))\n",
        "\n",
        "#dense 2\n",
        "model.add(Dense(2*2*num_features))\n",
        "model.add(BatchNormalization())\n",
        "model.add(Activation('relu'))\n",
        "\n",
        "#dense 3\n",
        "model.add(Dense(2*num_features))\n",
        "model.add(BatchNormalization())\n",
        "model.add(Activation('relu'))\n",
        "\n",
        "#output layer\n",
        "model.add(Dense(num_classes, activation='softmax'))"
      ],
      "execution_count": 15,
      "outputs": []
    },
    {
      "cell_type": "code",
      "metadata": {
        "id": "B6ViREY8mVEc"
      },
      "source": [
        "## Model Compilation ##\n",
        "\n",
        "model.compile(loss='categorical_crossentropy',\n",
        "              optimizer=Adam(lr=0.001, \n",
        "                             beta_1=0.9, \n",
        "                             beta_2=0.999, \n",
        "                             epsilon=1e-7),\n",
        "              metrics=['accuracy'])\n"
      ],
      "execution_count": 16,
      "outputs": []
    },
    {
      "cell_type": "code",
      "metadata": {
        "colab": {
          "base_uri": "https://localhost:8080/"
        },
        "id": "fks1bLXimVHe",
        "outputId": "07d462a9-b65d-43ee-bd15-338f42a684be"
      },
      "source": [
        "%%time\n",
        "model.summary()"
      ],
      "execution_count": 17,
      "outputs": [
        {
          "output_type": "stream",
          "text": [
            "Model: \"sequential_2\"\n",
            "_________________________________________________________________\n",
            "Layer (type)                 Output Shape              Param #   \n",
            "=================================================================\n",
            "conv2d_7 (Conv2D)            (None, 44, 44, 64)        1664      \n",
            "_________________________________________________________________\n",
            "batch_normalization_10 (Batc (None, 44, 44, 64)        256       \n",
            "_________________________________________________________________\n",
            "activation_10 (Activation)   (None, 44, 44, 64)        0         \n",
            "_________________________________________________________________\n",
            "conv2d_8 (Conv2D)            (None, 44, 44, 64)        102464    \n",
            "_________________________________________________________________\n",
            "batch_normalization_11 (Batc (None, 44, 44, 64)        256       \n",
            "_________________________________________________________________\n",
            "activation_11 (Activation)   (None, 44, 44, 64)        0         \n",
            "_________________________________________________________________\n",
            "max_pooling2d_4 (MaxPooling2 (None, 22, 22, 64)        0         \n",
            "_________________________________________________________________\n",
            "conv2d_9 (Conv2D)            (None, 22, 22, 128)       204928    \n",
            "_________________________________________________________________\n",
            "batch_normalization_12 (Batc (None, 22, 22, 128)       512       \n",
            "_________________________________________________________________\n",
            "activation_12 (Activation)   (None, 22, 22, 128)       0         \n",
            "_________________________________________________________________\n",
            "conv2d_10 (Conv2D)           (None, 22, 22, 128)       409728    \n",
            "_________________________________________________________________\n",
            "batch_normalization_13 (Batc (None, 22, 22, 128)       512       \n",
            "_________________________________________________________________\n",
            "activation_13 (Activation)   (None, 22, 22, 128)       0         \n",
            "_________________________________________________________________\n",
            "max_pooling2d_5 (MaxPooling2 (None, 11, 11, 128)       0         \n",
            "_________________________________________________________________\n",
            "conv2d_11 (Conv2D)           (None, 11, 11, 256)       295168    \n",
            "_________________________________________________________________\n",
            "batch_normalization_14 (Batc (None, 11, 11, 256)       1024      \n",
            "_________________________________________________________________\n",
            "activation_14 (Activation)   (None, 11, 11, 256)       0         \n",
            "_________________________________________________________________\n",
            "conv2d_12 (Conv2D)           (None, 11, 11, 256)       590080    \n",
            "_________________________________________________________________\n",
            "batch_normalization_15 (Batc (None, 11, 11, 256)       1024      \n",
            "_________________________________________________________________\n",
            "activation_15 (Activation)   (None, 11, 11, 256)       0         \n",
            "_________________________________________________________________\n",
            "max_pooling2d_6 (MaxPooling2 (None, 5, 5, 256)         0         \n",
            "_________________________________________________________________\n",
            "flatten_2 (Flatten)          (None, 6400)              0         \n",
            "_________________________________________________________________\n",
            "dense_5 (Dense)              (None, 512)               3277312   \n",
            "_________________________________________________________________\n",
            "batch_normalization_16 (Batc (None, 512)               2048      \n",
            "_________________________________________________________________\n",
            "activation_16 (Activation)   (None, 512)               0         \n",
            "_________________________________________________________________\n",
            "dense_6 (Dense)              (None, 256)               131328    \n",
            "_________________________________________________________________\n",
            "batch_normalization_17 (Batc (None, 256)               1024      \n",
            "_________________________________________________________________\n",
            "activation_17 (Activation)   (None, 256)               0         \n",
            "_________________________________________________________________\n",
            "dense_7 (Dense)              (None, 128)               32896     \n",
            "_________________________________________________________________\n",
            "batch_normalization_18 (Batc (None, 128)               512       \n",
            "_________________________________________________________________\n",
            "activation_18 (Activation)   (None, 128)               0         \n",
            "_________________________________________________________________\n",
            "dense_8 (Dense)              (None, 7)                 903       \n",
            "=================================================================\n",
            "Total params: 5,053,639\n",
            "Trainable params: 5,050,055\n",
            "Non-trainable params: 3,584\n",
            "_________________________________________________________________\n",
            "CPU times: user 4.57 ms, sys: 954 µs, total: 5.52 ms\n",
            "Wall time: 4.98 ms\n"
          ],
          "name": "stdout"
        }
      ]
    },
    {
      "cell_type": "code",
      "metadata": {
        "id": "hT9ptoJRmVKu"
      },
      "source": [
        "# data generator\n",
        "data_generator = ImageDataGenerator(\n",
        "    featurewise_center=False,\n",
        "    featurewise_std_normalization=False,\n",
        "    rotation_range=10,\n",
        "    width_shift_range=0.1,\n",
        "    height_shift_range=0.1,\n",
        "    zoom_range=.1,\n",
        "    horizontal_flip=True)"
      ],
      "execution_count": 18,
      "outputs": []
    },
    {
      "cell_type": "code",
      "metadata": {
        "id": "1erQvPQTnJFg"
      },
      "source": [
        "# early stopping to avoid overfitting\n",
        "es = EarlyStopping(monitor='val_loss', patience=10,\n",
        "                   mode='min', restore_best_weights=True)"
      ],
      "execution_count": 19,
      "outputs": []
    },
    {
      "cell_type": "code",
      "metadata": {
        "colab": {
          "base_uri": "https://localhost:8080/"
        },
        "id": "6ql42huinLnS",
        "outputId": "961b7c81-30f5-4941-e57f-99dbf9246453"
      },
      "source": [
        "\n",
        "%%time\n",
        "history = model.fit_generator(data_generator.flow(train_X, train_Y, batch_size),\n",
        "                              steps_per_epoch=len(train_X) / batch_size,\n",
        "                              epochs=num_epochs,\n",
        "                              verbose=2,\n",
        "                              callbacks=[es],\n",
        "                              validation_data=(val_X, val_Y))"
      ],
      "execution_count": 20,
      "outputs": [
        {
          "output_type": "stream",
          "text": [
            "WARNING:tensorflow:From /tensorflow-1.15.2/python3.7/keras/backend/tensorflow_backend.py:422: The name tf.global_variables is deprecated. Please use tf.compat.v1.global_variables instead.\n",
            "\n",
            "Epoch 1/20\n",
            " - 31s - loss: 1.6678 - accuracy: 0.3370 - val_loss: 1.7459 - val_accuracy: 0.2744\n",
            "Epoch 2/20\n",
            " - 22s - loss: 1.3736 - accuracy: 0.4716 - val_loss: 1.5156 - val_accuracy: 0.4369\n",
            "Epoch 3/20\n",
            " - 22s - loss: 1.2366 - accuracy: 0.5276 - val_loss: 1.1862 - val_accuracy: 0.5528\n",
            "Epoch 4/20\n",
            " - 22s - loss: 1.1741 - accuracy: 0.5534 - val_loss: 1.3947 - val_accuracy: 0.4739\n",
            "Epoch 5/20\n",
            " - 22s - loss: 1.1093 - accuracy: 0.5795 - val_loss: 1.1511 - val_accuracy: 0.5612\n",
            "Epoch 6/20\n",
            " - 22s - loss: 1.0781 - accuracy: 0.5923 - val_loss: 1.0982 - val_accuracy: 0.5834\n",
            "Epoch 7/20\n",
            " - 22s - loss: 1.0465 - accuracy: 0.6053 - val_loss: 1.1700 - val_accuracy: 0.5690\n",
            "Epoch 8/20\n",
            " - 22s - loss: 1.0174 - accuracy: 0.6146 - val_loss: 1.1418 - val_accuracy: 0.5745\n",
            "Epoch 9/20\n",
            " - 22s - loss: 0.9919 - accuracy: 0.6260 - val_loss: 1.0234 - val_accuracy: 0.6239\n",
            "Epoch 10/20\n",
            " - 22s - loss: 0.9678 - accuracy: 0.6361 - val_loss: 1.0558 - val_accuracy: 0.6124\n",
            "Epoch 11/20\n",
            " - 22s - loss: 0.9511 - accuracy: 0.6389 - val_loss: 1.0352 - val_accuracy: 0.6116\n",
            "Epoch 12/20\n",
            " - 22s - loss: 0.9299 - accuracy: 0.6463 - val_loss: 1.0657 - val_accuracy: 0.5868\n",
            "Epoch 13/20\n",
            " - 22s - loss: 0.9051 - accuracy: 0.6626 - val_loss: 1.0490 - val_accuracy: 0.6130\n",
            "Epoch 14/20\n",
            " - 22s - loss: 0.8884 - accuracy: 0.6670 - val_loss: 0.9782 - val_accuracy: 0.6350\n",
            "Epoch 15/20\n",
            " - 22s - loss: 0.8745 - accuracy: 0.6736 - val_loss: 1.0566 - val_accuracy: 0.6216\n",
            "Epoch 16/20\n",
            " - 22s - loss: 0.8526 - accuracy: 0.6799 - val_loss: 1.0679 - val_accuracy: 0.6138\n",
            "Epoch 17/20\n",
            " - 22s - loss: 0.8341 - accuracy: 0.6885 - val_loss: 0.9996 - val_accuracy: 0.6378\n",
            "Epoch 18/20\n",
            " - 22s - loss: 0.8188 - accuracy: 0.6931 - val_loss: 1.0555 - val_accuracy: 0.6222\n",
            "Epoch 19/20\n",
            " - 22s - loss: 0.7982 - accuracy: 0.7013 - val_loss: 1.0260 - val_accuracy: 0.6353\n",
            "Epoch 20/20\n",
            " - 22s - loss: 0.7750 - accuracy: 0.7089 - val_loss: 0.9957 - val_accuracy: 0.6467\n",
            "CPU times: user 10min 2s, sys: 14.7 s, total: 10min 16s\n",
            "Wall time: 7min 32s\n"
          ],
          "name": "stdout"
        }
      ]
    },
    {
      "cell_type": "code",
      "metadata": {
        "id": "zOSEDmbApiuh",
        "colab": {
          "base_uri": "https://localhost:8080/",
          "height": 403
        },
        "outputId": "e205ba77-52de-43c8-d09d-4bf966ce00e7"
      },
      "source": [
        "fig, axes = plt.subplots(1,2, figsize=(18, 6))\n",
        "# Plot training & validation accuracy values\n",
        "axes[0].plot(history.history['accuracy'])\n",
        "axes[0].plot(history.history['val_accuracy'])\n",
        "axes[0].set_title('Model accuracy')\n",
        "axes[0].set_ylabel('Accuracy')\n",
        "axes[0].set_xlabel('Epoch')\n",
        "axes[0].legend(['Train', 'Validation'], loc='upper left')\n",
        "\n",
        "# Plot training & validation loss values\n",
        "axes[1].plot(history.history['loss'])\n",
        "axes[1].plot(history.history['val_loss'])\n",
        "axes[1].set_title('Model loss')\n",
        "axes[1].set_ylabel('Loss')\n",
        "axes[1].set_xlabel('Epoch')\n",
        "axes[1].legend(['Train', 'Validation'], loc='upper left')\n",
        "plt.show()"
      ],
      "execution_count": 21,
      "outputs": [
        {
          "output_type": "display_data",
          "data": {
            "image/png": "[encoded data removed]",
            "text/plain": [
              "<Figure size 1296x432 with 2 Axes>"
            ]
          },
          "metadata": {
            "tags": [],
            "needs_background": "light"
          }
        }
      ]
    },
    {
      "cell_type": "code",
      "metadata": {
        "id": "dCOzY829cB-y",
        "colab": {
          "base_uri": "https://localhost:8080/"
        },
        "outputId": "ea96c54e-ddc7-454a-8a65-97a0e20b294a"
      },
      "source": [
        "##Evaluate Test Performance\n",
        "test_true = np.argmax(test_Y, axis=1)\n",
        "test_pred = np.argmax(model.predict(test_X), axis=1)\n",
        "\n",
        "print('CNN Model Accuracy on test set: {:.4f}'.format(\n",
        "    accuracy_score(test_true, test_pred)))"
      ],
      "execution_count": 22,
      "outputs": [
        {
          "output_type": "stream",
          "text": [
            "CNN Model Accuracy on test set: 0.6486\n"
          ],
          "name": "stdout"
        }
      ]
    },
    {
      "cell_type": "code",
      "metadata": {
        "id": "JJgmzS3OvXS2"
      },
      "source": [
        "##Analysis using Confusion Matrix\n",
        "def plot_confusion_matrix(y_true, y_pred, classes,\n",
        "                          normalize=False,\n",
        "                          title=None,\n",
        "                          cmap=plt.cm.PuRd):\n",
        "    \"\"\"\n",
        "    This function prints and plots the confusion matrix.\n",
        "    Normalization can be applied by setting `normalize=True`.\n",
        "    \"\"\"\n",
        "    if not title:\n",
        "        if normalize:\n",
        "            title = 'Normalized Confusion Matrix'\n",
        "        else:\n",
        "            title = 'Confusion Matrix, Without Normalization'\n",
        "\n",
        "    # Compute confusion matrix\n",
        "    cm = confusion_matrix(y_true, y_pred)\n",
        "    # Only use the labels that appear in the data\n",
        "    classes = classes\n",
        "    \n",
        "    if normalize:\n",
        "        cm = cm.astype('float') / cm.sum(axis=1)[:, np.newaxis]\n",
        "    \n",
        "    fig, ax = plt.subplots(figsize=(16, 8))\n",
        "    im = ax.imshow(cm, interpolation='nearest', cmap=cmap)\n",
        "    ax.figure.colorbar(im, ax=ax)\n",
        "    \n",
        "    # We want to show all ticks...\n",
        "    ax.set(xticks=np.arange(cm.shape[1]),\n",
        "           yticks=np.arange(cm.shape[0]),\n",
        "           # ... and label them with the respective list entries\n",
        "           xticklabels=classes, yticklabels=classes,\n",
        "           title=title,\n",
        "           ylabel='True Labels',\n",
        "           xlabel='Predicted Labels')\n",
        "\n",
        "    # Rotate the tick labels and set their alignment.\n",
        "    plt.setp(ax.get_xticklabels(), rotation=45, ha=\"right\",\n",
        "             rotation_mode=\"anchor\")\n",
        "\n",
        "    # Loop over data dimensions and create text annotations\n",
        "    fmt = '.2f' if normalize else 'd'\n",
        "    thresh = cm.max() / 2.\n",
        "    for i in range(cm.shape[0]):\n",
        "        for j in range(cm.shape[1]):\n",
        "            ax.text(j, i, format(cm[i, j], fmt),\n",
        "                    ha=\"center\", va=\"center\",\n",
        "                    color=\"white\" if cm[i, j] > thresh else \"black\")\n",
        "    fig.tight_layout()\n",
        "    return ax"
      ],
      "execution_count": 23,
      "outputs": []
    },
    {
      "cell_type": "code",
      "metadata": {
        "id": "1KSD0xUUvmUD",
        "colab": {
          "base_uri": "https://localhost:8080/",
          "height": 585
        },
        "outputId": "03358fde-ee91-445d-dd56-cdd1f6d525ea"
      },
      "source": [
        "# Plot normalized confusion matrix\n",
        "plot_confusion_matrix(test_true, test_pred, classes=['Angry','Disgust', 'Fear', 'Happy', 'Sad', 'Surprise', 'Neutral'],\n",
        "                      normalize=True, title='Normalized confusion matrix')\n",
        "\n",
        "plt.show()"
      ],
      "execution_count": 24,
      "outputs": [
        {
          "output_type": "display_data",
          "data": {
            "image/png": "[encoded data removed]",
            "text/plain": [
              "<Figure size 1152x576 with 2 Axes>"
            ]
          },
          "metadata": {
            "tags": [],
            "needs_background": "light"
          }
        }
      ]
    },
    {
      "cell_type": "markdown",
      "metadata": {
        "id": "DpEvNiQeyWV5"
      },
      "source": [
        "**Saving the Model in Google Drive**"
      ]
    },
    {
      "cell_type": "code",
      "metadata": {
        "id": "pxo-z6A7xtvw",
        "colab": {
          "base_uri": "https://localhost:8080/"
        },
        "outputId": "2a33d000-4a2c-447d-abfd-833405e02116"
      },
      "source": [
        "from keras.models import model_from_json\n",
        "\n",
        "model_json = model.to_json()\n",
        "\n",
        "with open('/content/drive/MyDrive/NIT Warangal _Industry Project/fer2013model.json', 'w') as json_file:\n",
        "    json_file.write(model_json)\n",
        "\n",
        "# Serialize weights to HDF5\n",
        "model.save_weights(\n",
        "    '/content/drive/MyDrive/NIT Warangal _Industry Project/fer2013model.h5')\n",
        "\n",
        "print('Saved model to disk')"
      ],
      "execution_count": 25,
      "outputs": [
        {
          "output_type": "stream",
          "text": [
            "Saved model to disk\n"
          ],
          "name": "stdout"
        }
      ]
    },
    {
      "cell_type": "code",
      "metadata": {
        "id": "QN0NPpmwyKV1"
      },
      "source": [
        "##Converting the model to .pb file\n",
        "\n",
        "def freeze_session(session, keep_var_names=None, output_names=None, clear_devices=True):\n",
        "    from tensorflow.python.framework.graph_util import convert_variables_to_constants\n",
        "    graph = session.graph\n",
        "    \n",
        "    with graph.as_default():\n",
        "        \n",
        "        freeze_var_names = list(\n",
        "            set(v.op.name for v in tf.global_variables()).difference(keep_var_names or []))\n",
        "        \n",
        "        output_names = output_names or []\n",
        "        output_names += [v.op.name for v in tf.global_variables()]\n",
        "        input_graph_def = graph.as_graph_def()\n",
        "        \n",
        "        if clear_devices:\n",
        "            for node in input_graph_def.node:\n",
        "                node.device = \"\"\n",
        "        \n",
        "        frozen_graph = convert_variables_to_constants(session, input_graph_def,\n",
        "                                                      output_names, freeze_var_names)\n",
        "        return frozen_graph"
      ],
      "execution_count": 45,
      "outputs": []
    },
    {
      "cell_type": "code",
      "metadata": {
        "colab": {
          "base_uri": "https://localhost:8080/",
          "height": 185
        },
        "id": "FcvVb13IqHve",
        "outputId": "14f09934-3481-4a49-9342-98ecef79e8d2"
      },
      "source": [
        "# Save Keras model as Tensorflow pb file\n",
        "from keras import backend as K\n",
        "\n",
        "# Create, compile and train model...\n",
        "frozen_graph = freeze_session(K.get_session(),\n",
        "                              output_names=[out.op.name for out in model.outputs])\n",
        "\n",
        "tf.train.write_graph(frozen_graph, '/content/drive/MyDrive/NIT Warangal _Industry Project/', 'fer2013model.pb', \n",
        "                     as_text=False)"
      ],
      "execution_count": 46,
      "outputs": [
        {
          "output_type": "stream",
          "text": [
            "WARNING:tensorflow:From <ipython-input-45-e566e28e9a28>:21: convert_variables_to_constants (from tensorflow.python.framework.graph_util_impl) is deprecated and will be removed in a future version.\n",
            "Instructions for updating:\n",
            "Use `tf.compat.v1.graph_util.convert_variables_to_constants`\n",
            "WARNING:tensorflow:From /tensorflow-1.15.2/python3.7/tensorflow_core/python/framework/graph_util_impl.py:277: extract_sub_graph (from tensorflow.python.framework.graph_util_impl) is deprecated and will be removed in a future version.\n",
            "Instructions for updating:\n",
            "Use `tf.compat.v1.graph_util.extract_sub_graph`\n",
            "INFO:tensorflow:Froze 233 variables.\n",
            "INFO:tensorflow:Converted 233 variables to const ops.\n"
          ],
          "name": "stdout"
        },
        {
          "output_type": "execute_result",
          "data": {
            "application/vnd.google.colaboratory.intrinsic+json": {
              "type": "string"
            },
            "text/plain": [
              "'/content/drive/MyDrive/NIT Warangal _Industry Project/fer2013model.pb'"
            ]
          },
          "metadata": {
            "tags": []
          },
          "execution_count": 46
        }
      ]
    }
  ]
}