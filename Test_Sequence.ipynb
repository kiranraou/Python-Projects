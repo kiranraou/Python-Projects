{
  "nbformat": 4,
  "nbformat_minor": 0,
  "metadata": {
    "accelerator": "GPU",
    "colab": {
      "name": "Test_Sequence.ipynb",
      "provenance": [],
      "collapsed_sections": [],
      "include_colab_link": true
    },
    "kernelspec": {
      "display_name": "Python 3",
      "language": "python",
      "name": "python3"
    },
    "language_info": {
      "codemirror_mode": {
        "name": "ipython",
        "version": 3
      },
      "file_extension": ".py",
      "mimetype": "text/x-python",
      "name": "python",
      "nbconvert_exporter": "python",
      "pygments_lexer": "ipython3",
      "version": "3.9.6"
    }
  },
  "cells": [
    {
      "cell_type": "markdown",
      "metadata": {
        "id": "view-in-github",
        "colab_type": "text"
      },
      "source": [
        "<a href=\"https://colab.research.google.com/github/kiranraou/Python-Projects/blob/main/Test_Sequence.ipynb\" target=\"_parent\"><img src=\"https://colab.research.google.com/assets/colab-badge.svg\" alt=\"Open In Colab\"/></a>"
      ]
    },
    {
      "cell_type": "markdown",
      "metadata": {
        "id": "v9BrzRVVk4za"
      },
      "source": [
        "### Sequence\tLearning - End\tCourse\tTest\t"
      ]
    },
    {
      "cell_type": "markdown",
      "metadata": {
        "id": "beHytOxslNh_"
      },
      "source": [
        "**DESCRIPTION**\n",
        "\n",
        "Predict named entity from given data and showcase how entities like persons, locations, organizations, and \n",
        "other miscellaneous entity names of that do not belong to the previous three groups can be predicted from \n",
        "the tagged dataset. "
      ]
    },
    {
      "cell_type": "markdown",
      "metadata": {
        "id": "NQPG3AcgljYr"
      },
      "source": [
        "**Problem Statement:**\n",
        "\n",
        "Using CoNLL 2003 data, predict tagged NER using CRF Algorithm. Also, tune the algorithm and explore the \n",
        "learnings that have been done by the CRF Model. "
      ]
    },
    {
      "cell_type": "markdown",
      "metadata": {
        "id": "tvr_yp4JljDr"
      },
      "source": [
        "**Dataset**\n",
        "\n",
        "The CoNLL-2003 shared task data files contain four columns separated by a single space. Each word has been \n",
        "put on a separate line, and there is an empty line after each sentence. The first item on each line is a word, \n",
        "the second a part-of-speech (POS) tag, the third a syntactic chunk tag, and the fourth the named entity tag. \n",
        "The chunk tags and the named entity tags have the format I-TYPE, which means that the word is inside a \n",
        "phrase of type TYPE. Only if two phrases of the same type immediately follow each other, the first word of the \n",
        "second phrase will have tag B-TYPE to show that it starts a new phrase. A word with tag O is not part of a \n",
        "phrase. "
      ]
    },
    {
      "cell_type": "markdown",
      "metadata": {
        "id": "Dec3Pi1kl85P"
      },
      "source": [
        "**Different Classes:**\n",
        "1. persons, (PER) \n",
        "2. locations, (LOC) \n",
        "3. Organizations (ORG), \n",
        "4. names of miscellaneous entities that do not belong to the previous three groups (MISC)"
      ]
    },
    {
      "cell_type": "markdown",
      "metadata": {
        "id": "UtwBa6eamGji"
      },
      "source": [
        "**ConLL 2003 Data_Train Dataset Link**\n",
        " \n",
        "https://raw.githubusercontent.com/davidsbatista/NER-datasets/master/CONLL2003/train.txt\n",
        "\n",
        "**ConLL 2003 Data_Test Dataset Link**\n",
        "\n",
        "https://raw.githubusercontent.com/davidsbatista/NER-datasets/master/CONLL2003/test.txt"
      ]
    },
    {
      "cell_type": "markdown",
      "metadata": {
        "id": "V7Xxx4yXi0LN"
      },
      "source": [
        "**Mounting Google Drive.**"
      ]
    },
    {
      "cell_type": "code",
      "metadata": {
        "colab": {
          "base_uri": "https://localhost:8080/"
        },
        "id": "aAHeAh4VggJN",
        "outputId": "1c9084f0-070a-40f4-94e6-8b3446512e1b"
      },
      "source": [
        "from google.colab import drive\n",
        "drive.mount('/content/drive')"
      ],
      "execution_count": 1,
      "outputs": [
        {
          "output_type": "stream",
          "text": [
            "Mounted at /content/drive\n"
          ],
          "name": "stdout"
        }
      ]
    },
    {
      "cell_type": "code",
      "metadata": {
        "colab": {
          "base_uri": "https://localhost:8080/"
        },
        "id": "sYPOn8cUhFXz",
        "outputId": "dd306f59-af8e-4c33-df82-20a52523fcd7"
      },
      "source": [
        "%tensorflow_version 1.x"
      ],
      "execution_count": 3,
      "outputs": [
        {
          "output_type": "stream",
          "text": [
            "TensorFlow 1.x selected.\n"
          ],
          "name": "stdout"
        }
      ]
    },
    {
      "cell_type": "markdown",
      "metadata": {
        "id": "eUiZ-4aWjHNN"
      },
      "source": [
        "**Import Libraries.**"
      ]
    },
    {
      "cell_type": "code",
      "metadata": {
        "id": "vHwxU2I8BLgL"
      },
      "source": [
        "import time\n",
        "import pickle\n",
        "import string\n",
        "import pandas as pd\n",
        "import matplotlib.pyplot as plt\n",
        "import seaborn as sns\n",
        "\n",
        "from sklearn.model_selection import train_test_split, cross_val_score\n",
        "from sklearn.pipeline import Pipeline\n",
        "from sklearn import metrics\n",
        "from sklearn.feature_extraction import DictVectorizer\n",
        "from sklearn.tree import DecisionTreeClassifier\n",
        "from sklearn.naive_bayes import MultinomialNB\n",
        "from sklearn.linear_model import LogisticRegression\n",
        "from sklearn.svm import LinearSVC\n",
        "from sklearn.ensemble import VotingClassifier\n",
        "\n",
        "%matplotlib inline\n",
        "sns.set(font_scale=1.25)\n",
        "sns.set(style='white')\n",
        "sns.set(style='whitegrid', color_codes=True)"
      ],
      "execution_count": 4,
      "outputs": []
    },
    {
      "cell_type": "markdown",
      "metadata": {
        "id": "bmJw36FLjRj-"
      },
      "source": [
        "**Import and Examine Dataset.**"
      ]
    },
    {
      "cell_type": "code",
      "metadata": {
        "colab": {
          "base_uri": "https://localhost:8080/",
          "height": 206
        },
        "id": "XM8DAzlCBLmi",
        "outputId": "b9b80eb2-c79e-4b87-df89-296cb14997c6"
      },
      "source": [
        "ner_data = '/content/drive/MyDrive/NIT Warangal _Industry Project/CONLL2003/train.txt'\n",
        "df = pd.read_csv(ner_data, sep=' ', header=None)\n",
        "df.columns = ['token', 'pos_tag', 'chunk_tag', 'ne_tag']\n",
        "df.head()"
      ],
      "execution_count": 5,
      "outputs": [
        {
          "output_type": "execute_result",
          "data": {
            "text/html": [
              "<div>\n",
              "<style scoped>\n",
              "    .dataframe tbody tr th:only-of-type {\n",
              "        vertical-align: middle;\n",
              "    }\n",
              "\n",
              "    .dataframe tbody tr th {\n",
              "        vertical-align: top;\n",
              "    }\n",
              "\n",
              "    .dataframe thead th {\n",
              "        text-align: right;\n",
              "    }\n",
              "</style>\n",
              "<table border=\"1\" class=\"dataframe\">\n",
              "  <thead>\n",
              "    <tr style=\"text-align: right;\">\n",
              "      <th></th>\n",
              "      <th>token</th>\n",
              "      <th>pos_tag</th>\n",
              "      <th>chunk_tag</th>\n",
              "      <th>ne_tag</th>\n",
              "    </tr>\n",
              "  </thead>\n",
              "  <tbody>\n",
              "    <tr>\n",
              "      <th>0</th>\n",
              "      <td>-DOCSTART-</td>\n",
              "      <td>-X-</td>\n",
              "      <td>-X-</td>\n",
              "      <td>O</td>\n",
              "    </tr>\n",
              "    <tr>\n",
              "      <th>1</th>\n",
              "      <td>EU</td>\n",
              "      <td>NNP</td>\n",
              "      <td>B-NP</td>\n",
              "      <td>B-ORG</td>\n",
              "    </tr>\n",
              "    <tr>\n",
              "      <th>2</th>\n",
              "      <td>rejects</td>\n",
              "      <td>VBZ</td>\n",
              "      <td>B-VP</td>\n",
              "      <td>O</td>\n",
              "    </tr>\n",
              "    <tr>\n",
              "      <th>3</th>\n",
              "      <td>German</td>\n",
              "      <td>JJ</td>\n",
              "      <td>B-NP</td>\n",
              "      <td>B-MISC</td>\n",
              "    </tr>\n",
              "    <tr>\n",
              "      <th>4</th>\n",
              "      <td>call</td>\n",
              "      <td>NN</td>\n",
              "      <td>I-NP</td>\n",
              "      <td>O</td>\n",
              "    </tr>\n",
              "  </tbody>\n",
              "</table>\n",
              "</div>"
            ],
            "text/plain": [
              "        token pos_tag chunk_tag  ne_tag\n",
              "0  -DOCSTART-     -X-       -X-       O\n",
              "1          EU     NNP      B-NP   B-ORG\n",
              "2     rejects     VBZ      B-VP       O\n",
              "3      German      JJ      B-NP  B-MISC\n",
              "4        call      NN      I-NP       O"
            ]
          },
          "metadata": {
            "tags": []
          },
          "execution_count": 5
        }
      ]
    },
    {
      "cell_type": "code",
      "metadata": {
        "colab": {
          "base_uri": "https://localhost:8080/"
        },
        "id": "fAd_BAF8BLsx",
        "outputId": "e1b1b240-b40b-4014-e3e2-b6239dc7ce01"
      },
      "source": [
        "df.info()"
      ],
      "execution_count": 6,
      "outputs": [
        {
          "output_type": "stream",
          "text": [
            "<class 'pandas.core.frame.DataFrame'>\n",
            "RangeIndex: 204567 entries, 0 to 204566\n",
            "Data columns (total 4 columns):\n",
            " #   Column     Non-Null Count   Dtype \n",
            "---  ------     --------------   ----- \n",
            " 0   token      204564 non-null  object\n",
            " 1   pos_tag    204567 non-null  object\n",
            " 2   chunk_tag  204567 non-null  object\n",
            " 3   ne_tag     202389 non-null  object\n",
            "dtypes: object(4)\n",
            "memory usage: 6.2+ MB\n"
          ],
          "name": "stdout"
        }
      ]
    },
    {
      "cell_type": "code",
      "metadata": {
        "colab": {
          "base_uri": "https://localhost:8080/",
          "height": 258
        },
        "id": "GqkYgHEGBL0w",
        "outputId": "e133597b-d5fc-418e-f8ac-13a700fc8a6d"
      },
      "source": [
        "null_columns = df.columns[df.isnull().any()]\n",
        "print(df[null_columns].isnull().sum())\n",
        "\n",
        "df[df.isnull().any(axis=1)][null_columns].head()"
      ],
      "execution_count": 7,
      "outputs": [
        {
          "output_type": "stream",
          "text": [
            "token        3\n",
            "ne_tag    2178\n",
            "dtype: int64\n"
          ],
          "name": "stdout"
        },
        {
          "output_type": "execute_result",
          "data": {
            "text/html": [
              "<div>\n",
              "<style scoped>\n",
              "    .dataframe tbody tr th:only-of-type {\n",
              "        vertical-align: middle;\n",
              "    }\n",
              "\n",
              "    .dataframe tbody tr th {\n",
              "        vertical-align: top;\n",
              "    }\n",
              "\n",
              "    .dataframe thead th {\n",
              "        text-align: right;\n",
              "    }\n",
              "</style>\n",
              "<table border=\"1\" class=\"dataframe\">\n",
              "  <thead>\n",
              "    <tr style=\"text-align: right;\">\n",
              "      <th></th>\n",
              "      <th>token</th>\n",
              "      <th>ne_tag</th>\n",
              "    </tr>\n",
              "  </thead>\n",
              "  <tbody>\n",
              "    <tr>\n",
              "      <th>75</th>\n",
              "      <td></td>\n",
              "      <td>NaN</td>\n",
              "    </tr>\n",
              "    <tr>\n",
              "      <th>93</th>\n",
              "      <td></td>\n",
              "      <td>NaN</td>\n",
              "    </tr>\n",
              "    <tr>\n",
              "      <th>260</th>\n",
              "      <td></td>\n",
              "      <td>NaN</td>\n",
              "    </tr>\n",
              "    <tr>\n",
              "      <th>264</th>\n",
              "      <td></td>\n",
              "      <td>NaN</td>\n",
              "    </tr>\n",
              "    <tr>\n",
              "      <th>366</th>\n",
              "      <td></td>\n",
              "      <td>NaN</td>\n",
              "    </tr>\n",
              "  </tbody>\n",
              "</table>\n",
              "</div>"
            ],
            "text/plain": [
              "    token ne_tag\n",
              "75           NaN\n",
              "93           NaN\n",
              "260          NaN\n",
              "264          NaN\n",
              "366          NaN"
            ]
          },
          "metadata": {
            "tags": []
          },
          "execution_count": 7
        }
      ]
    },
    {
      "cell_type": "code",
      "metadata": {
        "colab": {
          "base_uri": "https://localhost:8080/"
        },
        "id": "UubOaLj7B0VH",
        "outputId": "cd4e2141-cffd-41d4-fa79-88961e58dd2e"
      },
      "source": [
        "df.dropna(inplace=True)\n",
        "df.reset_index(drop=True, inplace=True) # Reset the index so that it reflects the length of the dataframe and its columns. \n",
        "df.info() # Confirm that the missing values have been dropped."
      ],
      "execution_count": 8,
      "outputs": [
        {
          "output_type": "stream",
          "text": [
            "<class 'pandas.core.frame.DataFrame'>\n",
            "RangeIndex: 202386 entries, 0 to 202385\n",
            "Data columns (total 4 columns):\n",
            " #   Column     Non-Null Count   Dtype \n",
            "---  ------     --------------   ----- \n",
            " 0   token      202386 non-null  object\n",
            " 1   pos_tag    202386 non-null  object\n",
            " 2   chunk_tag  202386 non-null  object\n",
            " 3   ne_tag     202386 non-null  object\n",
            "dtypes: object(4)\n",
            "memory usage: 6.2+ MB\n"
          ],
          "name": "stdout"
        }
      ]
    },
    {
      "cell_type": "code",
      "metadata": {
        "colab": {
          "base_uri": "https://localhost:8080/"
        },
        "id": "KZBwW6qaB0ZX",
        "outputId": "23d02d2d-6959-41bb-ff28-e681ce611a15"
      },
      "source": [
        "df.pos_tag.value_counts()"
      ],
      "execution_count": 9,
      "outputs": [
        {
          "output_type": "execute_result",
          "data": {
            "text/plain": [
              "NNP       34390\n",
              "NN        23898\n",
              "CD        19704\n",
              "IN        19064\n",
              "DT        13453\n",
              "JJ        11831\n",
              "NNS        9903\n",
              "VBD        8293\n",
              ".          7389\n",
              ",          7291\n",
              "VB         4252\n",
              "VBN        4105\n",
              "RB         3975\n",
              "CC         3653\n",
              "TO         3469\n",
              "PRP        3163\n",
              ")          2866\n",
              "(          2866\n",
              "VBG        2585\n",
              "VBZ        2426\n",
              ":          2386\n",
              "POS        1553\n",
              "PRP$       1520\n",
              "VBP        1436\n",
              "MD         1199\n",
              "-X-         946\n",
              "NNPS        684\n",
              "WP          528\n",
              "RP          528\n",
              "WDT         506\n",
              "SYM         439\n",
              "$           427\n",
              "WRB         384\n",
              "JJR         382\n",
              "JJS         254\n",
              "FW          166\n",
              "RBR         163\n",
              "EX          136\n",
              "''           35\n",
              "RBS          35\n",
              "PDT          33\n",
              "UH           30\n",
              "WP$          23\n",
              "LS           13\n",
              "NN|SYM        4\n",
              "Name: pos_tag, dtype: int64"
            ]
          },
          "metadata": {
            "tags": []
          },
          "execution_count": 9
        }
      ]
    },
    {
      "cell_type": "code",
      "metadata": {
        "colab": {
          "base_uri": "https://localhost:8080/",
          "height": 375
        },
        "id": "MK3NBj4GB0dW",
        "outputId": "0c0ea3a7-2e1c-4a26-dcb0-0702fd7f583c"
      },
      "source": [
        "fig = plt.figure(figsize=(20,8))\n",
        "plt.title('POS Tag Frequency')\n",
        "sns.countplot(data=df, x='pos_tag');"
      ],
      "execution_count": 10,
      "outputs": [
        {
          "output_type": "display_data",
          "data": {
            "image/png": "[encoded data removed]",
            "text/plain": [
              "<Figure size 1440x576 with 1 Axes>"
            ]
          },
          "metadata": {
            "tags": []
          }
        }
      ]
    },
    {
      "cell_type": "code",
      "metadata": {
        "colab": {
          "base_uri": "https://localhost:8080/"
        },
        "id": "eBmCd7wbB0yY",
        "outputId": "6f481c0f-3610-481b-a3e2-f02bd5b07ad0"
      },
      "source": [
        "df.chunk_tag.value_counts()"
      ],
      "execution_count": 11,
      "outputs": [
        {
          "output_type": "execute_result",
          "data": {
            "text/plain": [
              "I-NP       66645\n",
              "B-NP       57384\n",
              "O          25468\n",
              "B-PP       18843\n",
              "B-VP       18047\n",
              "I-VP        8818\n",
              "B-ADVP      2637\n",
              "B-SBAR      1269\n",
              "B-ADJP      1165\n",
              "-X-          946\n",
              "B-PRT        527\n",
              "I-ADJP       211\n",
              "I-ADVP       138\n",
              "I-PP         103\n",
              "B-INTJ        59\n",
              "I-CONJP       39\n",
              "B-LST         32\n",
              "B-CONJP       31\n",
              "I-SBAR        19\n",
              "I-LST          4\n",
              "I-INTJ         1\n",
              "Name: chunk_tag, dtype: int64"
            ]
          },
          "metadata": {
            "tags": []
          },
          "execution_count": 11
        }
      ]
    },
    {
      "cell_type": "code",
      "metadata": {
        "colab": {
          "base_uri": "https://localhost:8080/",
          "height": 461
        },
        "id": "_yHeeR5BB04-",
        "outputId": "0adb3fdf-9c7d-4c24-f8e1-827cebed8832"
      },
      "source": [
        "fig = plt.figure(figsize=(16,8))\n",
        "plt.title('Chunk Tag Frequency')\n",
        "sns.countplot(data=df, x='chunk_tag');"
      ],
      "execution_count": 12,
      "outputs": [
        {
          "output_type": "display_data",
          "data": {
            "image/png": "[encoded data removed]",
            "text/plain": [
              "<Figure size 1152x576 with 1 Axes>"
            ]
          },
          "metadata": {
            "tags": []
          }
        }
      ]
    },
    {
      "cell_type": "code",
      "metadata": {
        "colab": {
          "base_uri": "https://localhost:8080/"
        },
        "id": "Kcy0YDCtBL9W",
        "outputId": "2f0fc9e2-16bd-42ab-c51b-f339a33162d3"
      },
      "source": [
        "df.ne_tag.value_counts()"
      ],
      "execution_count": 13,
      "outputs": [
        {
          "output_type": "execute_result",
          "data": {
            "text/plain": [
              "O         168343\n",
              "B-LOC       7140\n",
              "B-PER       6600\n",
              "B-ORG       6321\n",
              "I-PER       4528\n",
              "I-ORG       3704\n",
              "B-MISC      3438\n",
              "I-LOC       1157\n",
              "I-MISC      1155\n",
              "Name: ne_tag, dtype: int64"
            ]
          },
          "metadata": {
            "tags": []
          },
          "execution_count": 13
        }
      ]
    },
    {
      "cell_type": "code",
      "metadata": {
        "colab": {
          "base_uri": "https://localhost:8080/",
          "height": 518
        },
        "id": "eoJb2a4OCW96",
        "outputId": "4484c2ed-8cb2-4c21-c4da-9f75f7abbac0"
      },
      "source": [
        "fig = plt.figure(figsize=(12,8))\n",
        "plt.title('Named Entity Tag Frequency')\n",
        "sns.countplot(data=df, x='ne_tag');"
      ],
      "execution_count": 14,
      "outputs": [
        {
          "output_type": "display_data",
          "data": {
            "image/png": "[encoded data removed]",
            "text/plain": [
              "<Figure size 864x576 with 1 Axes>"
            ]
          },
          "metadata": {
            "tags": []
          }
        }
      ]
    },
    {
      "cell_type": "code",
      "metadata": {
        "colab": {
          "base_uri": "https://localhost:8080/",
          "height": 676
        },
        "id": "8tKjnmCyCe_7",
        "outputId": "b614798e-0f5b-4217-8dd7-16a9371dfe32"
      },
      "source": [
        "#df[df.ne_tag=='B-ORG'].sample(20) # First word in organisation name. Some tokens are abbreviations in all caps (e.g., 'EU').\n",
        "#df[df.ne_tag=='I-ORG'].sample(20) # Second word in organisation name.\n",
        "#df[df.ne_tag=='B-MISC'].sample(20) # Not sure how this differs from B-ORG. Many are adjectives.\n",
        "#df[df.ne_tag=='I-MISC'].sample(20) # Second part of B-MISC.\n",
        "df[df.ne_tag=='B-PER'].sample(20) # First names of people.\n",
        "#df[df.ne_tag=='I-PER'].sample(20) # Surnames of people. Mostly capitalised but not always (e.g., 'van').\n",
        "#df[df.ne_tag=='B-LOC'].sample(20) # Country and city names.\n",
        "#df[df.ne_tag=='I-LOC'].sample(20) # Second part of country and city names."
      ],
      "execution_count": 15,
      "outputs": [
        {
          "output_type": "execute_result",
          "data": {
            "text/html": [
              "<div>\n",
              "<style scoped>\n",
              "    .dataframe tbody tr th:only-of-type {\n",
              "        vertical-align: middle;\n",
              "    }\n",
              "\n",
              "    .dataframe tbody tr th {\n",
              "        vertical-align: top;\n",
              "    }\n",
              "\n",
              "    .dataframe thead th {\n",
              "        text-align: right;\n",
              "    }\n",
              "</style>\n",
              "<table border=\"1\" class=\"dataframe\">\n",
              "  <thead>\n",
              "    <tr style=\"text-align: right;\">\n",
              "      <th></th>\n",
              "      <th>token</th>\n",
              "      <th>pos_tag</th>\n",
              "      <th>chunk_tag</th>\n",
              "      <th>ne_tag</th>\n",
              "    </tr>\n",
              "  </thead>\n",
              "  <tbody>\n",
              "    <tr>\n",
              "      <th>192044</th>\n",
              "      <td>Fowler</td>\n",
              "      <td>NNP</td>\n",
              "      <td>B-NP</td>\n",
              "      <td>B-PER</td>\n",
              "    </tr>\n",
              "    <tr>\n",
              "      <th>116491</th>\n",
              "      <td>Gilbert</td>\n",
              "      <td>NNP</td>\n",
              "      <td>I-NP</td>\n",
              "      <td>B-PER</td>\n",
              "    </tr>\n",
              "    <tr>\n",
              "      <th>192965</th>\n",
              "      <td>Baker</td>\n",
              "      <td>NNP</td>\n",
              "      <td>B-NP</td>\n",
              "      <td>B-PER</td>\n",
              "    </tr>\n",
              "    <tr>\n",
              "      <th>113118</th>\n",
              "      <td>Karin</td>\n",
              "      <td>NNP</td>\n",
              "      <td>B-NP</td>\n",
              "      <td>B-PER</td>\n",
              "    </tr>\n",
              "    <tr>\n",
              "      <th>150298</th>\n",
              "      <td>Jacqueline</td>\n",
              "      <td>NNP</td>\n",
              "      <td>I-NP</td>\n",
              "      <td>B-PER</td>\n",
              "    </tr>\n",
              "    <tr>\n",
              "      <th>9343</th>\n",
              "      <td>Cecil</td>\n",
              "      <td>NNP</td>\n",
              "      <td>B-NP</td>\n",
              "      <td>B-PER</td>\n",
              "    </tr>\n",
              "    <tr>\n",
              "      <th>113361</th>\n",
              "      <td>Renzo</td>\n",
              "      <td>NNP</td>\n",
              "      <td>B-NP</td>\n",
              "      <td>B-PER</td>\n",
              "    </tr>\n",
              "    <tr>\n",
              "      <th>91599</th>\n",
              "      <td>Alex</td>\n",
              "      <td>NNP</td>\n",
              "      <td>B-NP</td>\n",
              "      <td>B-PER</td>\n",
              "    </tr>\n",
              "    <tr>\n",
              "      <th>148741</th>\n",
              "      <td>Desmond</td>\n",
              "      <td>NNP</td>\n",
              "      <td>I-NP</td>\n",
              "      <td>B-PER</td>\n",
              "    </tr>\n",
              "    <tr>\n",
              "      <th>111913</th>\n",
              "      <td>Lupu</td>\n",
              "      <td>NNP</td>\n",
              "      <td>B-NP</td>\n",
              "      <td>B-PER</td>\n",
              "    </tr>\n",
              "    <tr>\n",
              "      <th>65987</th>\n",
              "      <td>Corser</td>\n",
              "      <td>NNP</td>\n",
              "      <td>B-NP</td>\n",
              "      <td>B-PER</td>\n",
              "    </tr>\n",
              "    <tr>\n",
              "      <th>64562</th>\n",
              "      <td>Belim</td>\n",
              "      <td>NNP</td>\n",
              "      <td>I-NP</td>\n",
              "      <td>B-PER</td>\n",
              "    </tr>\n",
              "    <tr>\n",
              "      <th>46754</th>\n",
              "      <td>Harvey</td>\n",
              "      <td>NNP</td>\n",
              "      <td>B-NP</td>\n",
              "      <td>B-PER</td>\n",
              "    </tr>\n",
              "    <tr>\n",
              "      <th>21855</th>\n",
              "      <td>Ischinger</td>\n",
              "      <td>NNP</td>\n",
              "      <td>B-NP</td>\n",
              "      <td>B-PER</td>\n",
              "    </tr>\n",
              "    <tr>\n",
              "      <th>174253</th>\n",
              "      <td>Moin</td>\n",
              "      <td>NNP</td>\n",
              "      <td>I-NP</td>\n",
              "      <td>B-PER</td>\n",
              "    </tr>\n",
              "    <tr>\n",
              "      <th>139715</th>\n",
              "      <td>MCMANAMAN</td>\n",
              "      <td>NNP</td>\n",
              "      <td>I-NP</td>\n",
              "      <td>B-PER</td>\n",
              "    </tr>\n",
              "    <tr>\n",
              "      <th>68008</th>\n",
              "      <td>Todd</td>\n",
              "      <td>NNP</td>\n",
              "      <td>B-NP</td>\n",
              "      <td>B-PER</td>\n",
              "    </tr>\n",
              "    <tr>\n",
              "      <th>123902</th>\n",
              "      <td>Fatima</td>\n",
              "      <td>NNP</td>\n",
              "      <td>B-NP</td>\n",
              "      <td>B-PER</td>\n",
              "    </tr>\n",
              "    <tr>\n",
              "      <th>28842</th>\n",
              "      <td>Mark</td>\n",
              "      <td>NNP</td>\n",
              "      <td>B-NP</td>\n",
              "      <td>B-PER</td>\n",
              "    </tr>\n",
              "    <tr>\n",
              "      <th>85220</th>\n",
              "      <td>A.</td>\n",
              "      <td>NNP</td>\n",
              "      <td>B-NP</td>\n",
              "      <td>B-PER</td>\n",
              "    </tr>\n",
              "  </tbody>\n",
              "</table>\n",
              "</div>"
            ],
            "text/plain": [
              "             token pos_tag chunk_tag ne_tag\n",
              "192044      Fowler     NNP      B-NP  B-PER\n",
              "116491     Gilbert     NNP      I-NP  B-PER\n",
              "192965       Baker     NNP      B-NP  B-PER\n",
              "113118       Karin     NNP      B-NP  B-PER\n",
              "150298  Jacqueline     NNP      I-NP  B-PER\n",
              "9343         Cecil     NNP      B-NP  B-PER\n",
              "113361       Renzo     NNP      B-NP  B-PER\n",
              "91599         Alex     NNP      B-NP  B-PER\n",
              "148741     Desmond     NNP      I-NP  B-PER\n",
              "111913        Lupu     NNP      B-NP  B-PER\n",
              "65987       Corser     NNP      B-NP  B-PER\n",
              "64562        Belim     NNP      I-NP  B-PER\n",
              "46754       Harvey     NNP      B-NP  B-PER\n",
              "21855    Ischinger     NNP      B-NP  B-PER\n",
              "174253        Moin     NNP      I-NP  B-PER\n",
              "139715   MCMANAMAN     NNP      I-NP  B-PER\n",
              "68008         Todd     NNP      B-NP  B-PER\n",
              "123902      Fatima     NNP      B-NP  B-PER\n",
              "28842         Mark     NNP      B-NP  B-PER\n",
              "85220           A.     NNP      B-NP  B-PER"
            ]
          },
          "metadata": {
            "tags": []
          },
          "execution_count": 15
        }
      ]
    },
    {
      "cell_type": "markdown",
      "metadata": {
        "id": "xzv_c3D6jgRc"
      },
      "source": [
        "**Feature Engineering and Prepare Training and Validation Sets.**"
      ]
    },
    {
      "cell_type": "code",
      "metadata": {
        "id": "U9RxjT2kCfDa"
      },
      "source": [
        "def features(token, index, pos_tag, ne_tag):\n",
        "    first_letter = token[index][0]\n",
        "    features = {'token': token[index],\n",
        "                'pos': pos_tag[index],\n",
        "#                'chunk': chunk_tag[index],\n",
        "                'prev_token': '' if index == 0 else token[index-1],\n",
        "                'prev_pos': '' if index == 0 else pos_tag[index-1],\n",
        "                'prev_ne': '' if index == 0 else ne_tag[index-1],\n",
        "                'next_token': '' if index == len(df.token)-1 else token[index+1],\n",
        "                'next_pos': '' if index == len(df.token)-1 else pos_tag[index+1],\n",
        "                'prev_prev_token': '' if index == 0 or index == 1 else token[index-2],\n",
        "                'prev_prev_pos': '' if index == 0 or index == 1 else pos_tag[index-2],\n",
        "                'next_next_token': '' if index == len(df.token)-1 or index == len(df.token)-2 else token[index+2],\n",
        "                'next_next_pos': '' if index == len(df.token)-1 or index == len(df.token)-2 else pos_tag[index+2],\n",
        "                'is_capitalized': first_letter.upper() in string.ascii_uppercase and first_letter.upper() == first_letter,\n",
        "                'is_numeric': token[index].isdigit(),                \n",
        "                'is_all_caps': token[index].upper() == token[index],\n",
        "                'caps_inside': token[index][1:].lower() != token[index][1:]\n",
        "                }\n",
        "    return features\n",
        "    \n",
        "X = []\n",
        "\n",
        "for index in range(len(df.token)):\n",
        "    X.append(features(df.token, index, df.pos_tag, df.ne_tag))"
      ],
      "execution_count": 16,
      "outputs": []
    },
    {
      "cell_type": "code",
      "metadata": {
        "colab": {
          "base_uri": "https://localhost:8080/"
        },
        "id": "0wVMV5LTCfPa",
        "outputId": "14d83f65-dc86-4781-c43d-47a4f135a434"
      },
      "source": [
        "\n",
        "X[:5]"
      ],
      "execution_count": 17,
      "outputs": [
        {
          "output_type": "execute_result",
          "data": {
            "text/plain": [
              "[{'caps_inside': True,\n",
              "  'is_all_caps': True,\n",
              "  'is_capitalized': False,\n",
              "  'is_numeric': False,\n",
              "  'next_next_pos': 'VBZ',\n",
              "  'next_next_token': 'rejects',\n",
              "  'next_pos': 'NNP',\n",
              "  'next_token': 'EU',\n",
              "  'pos': '-X-',\n",
              "  'prev_ne': '',\n",
              "  'prev_pos': '',\n",
              "  'prev_prev_pos': '',\n",
              "  'prev_prev_token': '',\n",
              "  'prev_token': '',\n",
              "  'token': '-DOCSTART-'},\n",
              " {'caps_inside': True,\n",
              "  'is_all_caps': True,\n",
              "  'is_capitalized': True,\n",
              "  'is_numeric': False,\n",
              "  'next_next_pos': 'JJ',\n",
              "  'next_next_token': 'German',\n",
              "  'next_pos': 'VBZ',\n",
              "  'next_token': 'rejects',\n",
              "  'pos': 'NNP',\n",
              "  'prev_ne': 'O',\n",
              "  'prev_pos': '-X-',\n",
              "  'prev_prev_pos': '',\n",
              "  'prev_prev_token': '',\n",
              "  'prev_token': '-DOCSTART-',\n",
              "  'token': 'EU'},\n",
              " {'caps_inside': False,\n",
              "  'is_all_caps': False,\n",
              "  'is_capitalized': False,\n",
              "  'is_numeric': False,\n",
              "  'next_next_pos': 'NN',\n",
              "  'next_next_token': 'call',\n",
              "  'next_pos': 'JJ',\n",
              "  'next_token': 'German',\n",
              "  'pos': 'VBZ',\n",
              "  'prev_ne': 'B-ORG',\n",
              "  'prev_pos': 'NNP',\n",
              "  'prev_prev_pos': '-X-',\n",
              "  'prev_prev_token': '-DOCSTART-',\n",
              "  'prev_token': 'EU',\n",
              "  'token': 'rejects'},\n",
              " {'caps_inside': False,\n",
              "  'is_all_caps': False,\n",
              "  'is_capitalized': True,\n",
              "  'is_numeric': False,\n",
              "  'next_next_pos': 'TO',\n",
              "  'next_next_token': 'to',\n",
              "  'next_pos': 'NN',\n",
              "  'next_token': 'call',\n",
              "  'pos': 'JJ',\n",
              "  'prev_ne': 'O',\n",
              "  'prev_pos': 'VBZ',\n",
              "  'prev_prev_pos': 'NNP',\n",
              "  'prev_prev_token': 'EU',\n",
              "  'prev_token': 'rejects',\n",
              "  'token': 'German'},\n",
              " {'caps_inside': False,\n",
              "  'is_all_caps': False,\n",
              "  'is_capitalized': False,\n",
              "  'is_numeric': False,\n",
              "  'next_next_pos': 'VB',\n",
              "  'next_next_token': 'boycott',\n",
              "  'next_pos': 'TO',\n",
              "  'next_token': 'to',\n",
              "  'pos': 'NN',\n",
              "  'prev_ne': 'B-MISC',\n",
              "  'prev_pos': 'JJ',\n",
              "  'prev_prev_pos': 'VBZ',\n",
              "  'prev_prev_token': 'rejects',\n",
              "  'prev_token': 'German',\n",
              "  'token': 'call'}]"
            ]
          },
          "metadata": {
            "tags": []
          },
          "execution_count": 17
        }
      ]
    },
    {
      "cell_type": "code",
      "metadata": {
        "colab": {
          "base_uri": "https://localhost:8080/"
        },
        "id": "2OgeAeJ4DBM5",
        "outputId": "2e998dcf-4fc6-4f24-9039-6f0614877b5e"
      },
      "source": [
        "y = df['ne_tag']\n",
        "\n",
        "X_train, X_test, y_train, y_test, indices_train, indices_test = train_test_split(X, y, df.index, test_size=0.1, random_state=0)\n",
        "\n",
        "print(\"Size of training set (POS tags):\", len(X_train)) \n",
        "print(\"Size of test set (POS tags):\", len(X_test)) \n",
        "print(\"Size of training set (chunk tags):\", len(y_train)) \n",
        "print(\"Size of test set (chunk tags):\", len(y_test))"
      ],
      "execution_count": 18,
      "outputs": [
        {
          "output_type": "stream",
          "text": [
            "Size of training set (POS tags): 182147\n",
            "Size of test set (POS tags): 20239\n",
            "Size of training set (chunk tags): 182147\n",
            "Size of test set (chunk tags): 20239\n"
          ],
          "name": "stdout"
        }
      ]
    },
    {
      "cell_type": "markdown",
      "metadata": {
        "id": "gBEBin0Hjswi"
      },
      "source": [
        "# **Classifier Training.**"
      ]
    },
    {
      "cell_type": "markdown",
      "metadata": {
        "id": "zfY1C8bPnBz-"
      },
      "source": [
        "**F1 score.**"
      ]
    },
    {
      "cell_type": "code",
      "metadata": {
        "colab": {
          "base_uri": "https://localhost:8080/"
        },
        "id": "KzgR-2BaDBQe",
        "outputId": "df780609-dcac-4dc8-be55-871cc085d833"
      },
      "source": [
        "# token, pos: 0.8932555327159474\n",
        "# token, chunk: 0.8494862890783083 (took a LOT longer)\n",
        "# token, pos, chunk: 0.8957114704338746 (chunk doesn't help)\n",
        "# token, pos, previous token/pos: 0.8995017958096173\n",
        "# token, pos, previous token/pos, next token/pos: 0.9055109354730966\n",
        "# token, pos, previous token/pos, next token/pos, is_capitalised: 0.9115229634875965\n",
        "# token, pos, previous token/pos, previous previous token/pos, next token/pos, next next token/pos, is_capitalised: 0.9128023148431639\n",
        "# '', is_numeric: 0.9127205040729689\n",
        "# '', is_all_caps: 0.9132049059426229\n",
        "# '', caps_inside: 0.9142095785522023\n",
        "# ', prev_ne: 0.9387959473000405\n",
        "\n",
        "start_time = time.time()\n",
        "\n",
        "clf_dt = Pipeline([('vectorizer', DictVectorizer(sparse=False)),\n",
        "                   ('classifier', DecisionTreeClassifier(random_state=0, criterion='entropy'))])\n",
        " \n",
        "clf_dt.fit(X_train[:10000], y_train[:10000])\n",
        "\n",
        "end_time = time.time()\n",
        "print(\"Total time:\", end_time-start_time)\n",
        "\n",
        "predicted_dt = clf_dt.predict(X_test)\n",
        "print(\"Mean F1 score (weighted):\", metrics.f1_score(y_test, predicted_dt, average='weighted'))"
      ],
      "execution_count": 19,
      "outputs": [
        {
          "output_type": "stream",
          "text": [
            "Total time: 8.923581600189209\n",
            "Mean F1 score (weighted): 0.933595041061099\n"
          ],
          "name": "stdout"
        }
      ]
    },
    {
      "cell_type": "code",
      "metadata": {
        "id": "gh8QOmysCfVH",
        "colab": {
          "base_uri": "https://localhost:8080/"
        },
        "outputId": "f5ebc996-9f91-4fd5-d38a-f08937fb0fcd"
      },
      "source": [
        "start_time = time.time()\n",
        "\n",
        "clf_nb = Pipeline([('vectorizer', DictVectorizer(sparse=False)),\n",
        "                   ('classifier', MultinomialNB(alpha=0.01))])\n",
        " \n",
        "clf_nb.fit(X_train[:30000], y_train[:30000])\n",
        "\n",
        "end_time = time.time()\n",
        "print(\"Total time:\", end_time-start_time)\n",
        "\n",
        "predicted_nb = clf_nb.predict(X_test)\n",
        "print(\"Mean F1 score (weighted):\", metrics.f1_score(y_test, predicted_nb, average='weighted'))"
      ],
      "execution_count": 20,
      "outputs": [
        {
          "output_type": "stream",
          "text": [
            "Total time: 10.791502952575684\n",
            "Mean F1 score (weighted): 0.9426518311998823\n"
          ],
          "name": "stdout"
        }
      ]
    },
    {
      "cell_type": "code",
      "metadata": {
        "id": "9TGoTR1uCfZO",
        "colab": {
          "base_uri": "https://localhost:8080/"
        },
        "outputId": "36240931-36d7-41ed-eb24-10beb422a289"
      },
      "source": [
        "start_time = time.time()\n",
        "\n",
        "clf_svc = Pipeline([('vectorizer', DictVectorizer(sparse=False)),\n",
        "                    ('classifier', LinearSVC(random_state=0, class_weight='balanced', max_iter=10000))])\n",
        " \n",
        "clf_svc.fit(X_train[:30000], y_train[:30000])\n",
        "\n",
        "end_time = time.time()\n",
        "print(\"Total time:\", end_time-start_time)\n",
        "\n",
        "predicted_svc = clf_svc.predict(X_test)\n",
        "print(\"Mean F1 score (weighted):\", metrics.f1_score(y_test, predicted_svc, average='weighted'))"
      ],
      "execution_count": 21,
      "outputs": [
        {
          "output_type": "stream",
          "text": [
            "Total time: 9.731555700302124\n",
            "Mean F1 score (weighted): 0.9671038352638052\n"
          ],
          "name": "stdout"
        }
      ]
    },
    {
      "cell_type": "code",
      "metadata": {
        "id": "nLzsyCDbCXBO",
        "colab": {
          "base_uri": "https://localhost:8080/"
        },
        "outputId": "33e67079-64e8-4d1f-fbc4-e9bb8bf98cb2"
      },
      "source": [
        "print(metrics.classification_report(y_test, predicted_svc))"
      ],
      "execution_count": 22,
      "outputs": [
        {
          "output_type": "stream",
          "text": [
            "              precision    recall  f1-score   support\n",
            "\n",
            "       B-LOC       0.83      0.86      0.85       706\n",
            "      B-MISC       0.78      0.75      0.77       359\n",
            "       B-ORG       0.74      0.72      0.73       604\n",
            "       B-PER       0.83      0.87      0.85       665\n",
            "       I-LOC       0.88      0.97      0.92       119\n",
            "      I-MISC       0.83      0.81      0.82       116\n",
            "       I-ORG       0.94      0.95      0.94       386\n",
            "       I-PER       0.99      1.00      0.99       465\n",
            "           O       0.99      0.99      0.99     16819\n",
            "\n",
            "    accuracy                           0.97     20239\n",
            "   macro avg       0.87      0.88      0.87     20239\n",
            "weighted avg       0.97      0.97      0.97     20239\n",
            "\n"
          ],
          "name": "stdout"
        }
      ]
    },
    {
      "cell_type": "markdown",
      "metadata": {
        "id": "z0yV9Dbfn--7"
      },
      "source": [
        "**Saving Model with pickle.**"
      ]
    },
    {
      "cell_type": "code",
      "metadata": {
        "id": "zLpFy7xgCXMI"
      },
      "source": [
        "save_classifier = open('ne_clf_svc.pickle', 'wb') \n",
        "pickle.dump(clf_svc, save_classifier)\n",
        "save_classifier.close()"
      ],
      "execution_count": 23,
      "outputs": []
    }
  ]
}