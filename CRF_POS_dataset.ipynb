{
  "nbformat": 4,
  "nbformat_minor": 0,
  "metadata": {
    "colab": {
      "name": "Untitled9.ipynb",
      "provenance": [],
      "collapsed_sections": [],
      "authorship_tag": "ABX9TyNWTyyoUUC+Ku7FPf2iIwU8",
      "include_colab_link": true
    },
    "kernelspec": {
      "name": "python3",
      "display_name": "Python 3"
    },
    "language_info": {
      "name": "python"
    },
    "accelerator": "GPU"
  },
  "cells": [
    {
      "cell_type": "markdown",
      "metadata": {
        "id": "view-in-github",
        "colab_type": "text"
      },
      "source": [
        "<a href=\"https://colab.research.google.com/github/kiranraou/Python-Projects/blob/main/CRF_POS_dataset.ipynb\" target=\"_parent\"><img src=\"https://colab.research.google.com/assets/colab-badge.svg\" alt=\"Open In Colab\"/></a>"
      ]
    },
    {
      "cell_type": "markdown",
      "metadata": {
        "id": "XYAl1GJUjXYq"
      },
      "source": [
        "### Sequence Learning - Assignment1\n",
        "\n",
        "**Problem Statement 2.**\n",
        "\n",
        "Provided with a corpus that has a lot of sentences with POS \n",
        "tagging completed (CRF_POS_dataset.csv). The objective is to use \n",
        "this dataset and build a Condition Random Field (CRF model) with \n",
        "sequence modeling"
      ]
    },
    {
      "cell_type": "markdown",
      "metadata": {
        "id": "lxcDF-KAjonX"
      },
      "source": [
        "**Dataset Description.** \n",
        "\n",
        "Dataset: CRF_POS_dataset.csv\n",
        "\n",
        "CRF_POS_dataset contains a lot of sentences."
      ]
    },
    {
      "cell_type": "markdown",
      "metadata": {
        "id": "_ovBKdzNkGCH"
      },
      "source": [
        "**Mounting Google Drive.**"
      ]
    },
    {
      "cell_type": "code",
      "metadata": {
        "colab": {
          "base_uri": "https://localhost:8080/"
        },
        "id": "4rDfGC3yW2Ye",
        "outputId": "2acca4c7-6029-4302-99db-76960dd6ecb6"
      },
      "source": [
        "from google.colab import drive\n",
        "drive.mount('/content/drive')"
      ],
      "execution_count": 1,
      "outputs": [
        {
          "output_type": "stream",
          "text": [
            "Mounted at /content/drive\n"
          ],
          "name": "stdout"
        }
      ]
    },
    {
      "cell_type": "code",
      "metadata": {
        "id": "5b1fXxZcYffp"
      },
      "source": [
        "import nltk, re, pprint\n",
        "import numpy as np\n",
        "import pandas as pd\n",
        "import requests\n",
        "import matplotlib.pyplot as plt\n",
        "import seaborn as sns\n",
        "import pprint, time\n",
        "import random\n",
        "from sklearn.model_selection import train_test_split\n",
        "from nltk.tokenize import word_tokenize\n",
        "from sklearn_crfsuite import CRF\n",
        "from sklearn_crfsuite import metrics\n",
        "from sklearn_crfsuite import scorers\n",
        "from collections import Counter"
      ],
      "execution_count": 4,
      "outputs": []
    },
    {
      "cell_type": "code",
      "metadata": {
        "colab": {
          "base_uri": "https://localhost:8080/",
          "height": 1000
        },
        "id": "QgDQ6WJeYfj5",
        "outputId": "f40550ff-b7a4-4c85-f5df-76bc7751e44b"
      },
      "source": [
        "data = pd.read_csv(\"/content/drive/MyDrive/NIT Warangal _Industry Project/CRF_POS_dataset.csv\")\n",
        "data.head(50)"
      ],
      "execution_count": 5,
      "outputs": [
        {
          "output_type": "execute_result",
          "data": {
            "text/html": [
              "<div>\n",
              "<style scoped>\n",
              "    .dataframe tbody tr th:only-of-type {\n",
              "        vertical-align: middle;\n",
              "    }\n",
              "\n",
              "    .dataframe tbody tr th {\n",
              "        vertical-align: top;\n",
              "    }\n",
              "\n",
              "    .dataframe thead th {\n",
              "        text-align: right;\n",
              "    }\n",
              "</style>\n",
              "<table border=\"1\" class=\"dataframe\">\n",
              "  <thead>\n",
              "    <tr style=\"text-align: right;\">\n",
              "      <th></th>\n",
              "      <th>word</th>\n",
              "      <th>pos</th>\n",
              "    </tr>\n",
              "  </thead>\n",
              "  <tbody>\n",
              "    <tr>\n",
              "      <th>0</th>\n",
              "      <td>Thousands</td>\n",
              "      <td>NNS</td>\n",
              "    </tr>\n",
              "    <tr>\n",
              "      <th>1</th>\n",
              "      <td>of</td>\n",
              "      <td>IN</td>\n",
              "    </tr>\n",
              "    <tr>\n",
              "      <th>2</th>\n",
              "      <td>demonstrators</td>\n",
              "      <td>NNS</td>\n",
              "    </tr>\n",
              "    <tr>\n",
              "      <th>3</th>\n",
              "      <td>have</td>\n",
              "      <td>VBP</td>\n",
              "    </tr>\n",
              "    <tr>\n",
              "      <th>4</th>\n",
              "      <td>marched</td>\n",
              "      <td>VBN</td>\n",
              "    </tr>\n",
              "    <tr>\n",
              "      <th>5</th>\n",
              "      <td>through</td>\n",
              "      <td>IN</td>\n",
              "    </tr>\n",
              "    <tr>\n",
              "      <th>6</th>\n",
              "      <td>London</td>\n",
              "      <td>NNP</td>\n",
              "    </tr>\n",
              "    <tr>\n",
              "      <th>7</th>\n",
              "      <td>to</td>\n",
              "      <td>TO</td>\n",
              "    </tr>\n",
              "    <tr>\n",
              "      <th>8</th>\n",
              "      <td>protest</td>\n",
              "      <td>VB</td>\n",
              "    </tr>\n",
              "    <tr>\n",
              "      <th>9</th>\n",
              "      <td>the</td>\n",
              "      <td>DT</td>\n",
              "    </tr>\n",
              "    <tr>\n",
              "      <th>10</th>\n",
              "      <td>war</td>\n",
              "      <td>NN</td>\n",
              "    </tr>\n",
              "    <tr>\n",
              "      <th>11</th>\n",
              "      <td>in</td>\n",
              "      <td>IN</td>\n",
              "    </tr>\n",
              "    <tr>\n",
              "      <th>12</th>\n",
              "      <td>Iraq</td>\n",
              "      <td>NNP</td>\n",
              "    </tr>\n",
              "    <tr>\n",
              "      <th>13</th>\n",
              "      <td>and</td>\n",
              "      <td>CC</td>\n",
              "    </tr>\n",
              "    <tr>\n",
              "      <th>14</th>\n",
              "      <td>demand</td>\n",
              "      <td>VB</td>\n",
              "    </tr>\n",
              "    <tr>\n",
              "      <th>15</th>\n",
              "      <td>the</td>\n",
              "      <td>DT</td>\n",
              "    </tr>\n",
              "    <tr>\n",
              "      <th>16</th>\n",
              "      <td>withdrawal</td>\n",
              "      <td>NN</td>\n",
              "    </tr>\n",
              "    <tr>\n",
              "      <th>17</th>\n",
              "      <td>of</td>\n",
              "      <td>IN</td>\n",
              "    </tr>\n",
              "    <tr>\n",
              "      <th>18</th>\n",
              "      <td>British</td>\n",
              "      <td>JJ</td>\n",
              "    </tr>\n",
              "    <tr>\n",
              "      <th>19</th>\n",
              "      <td>troops</td>\n",
              "      <td>NNS</td>\n",
              "    </tr>\n",
              "    <tr>\n",
              "      <th>20</th>\n",
              "      <td>from</td>\n",
              "      <td>IN</td>\n",
              "    </tr>\n",
              "    <tr>\n",
              "      <th>21</th>\n",
              "      <td>that</td>\n",
              "      <td>DT</td>\n",
              "    </tr>\n",
              "    <tr>\n",
              "      <th>22</th>\n",
              "      <td>country</td>\n",
              "      <td>NN</td>\n",
              "    </tr>\n",
              "    <tr>\n",
              "      <th>23</th>\n",
              "      <td>.</td>\n",
              "      <td>.</td>\n",
              "    </tr>\n",
              "    <tr>\n",
              "      <th>24</th>\n",
              "      <td>Families</td>\n",
              "      <td>NNS</td>\n",
              "    </tr>\n",
              "    <tr>\n",
              "      <th>25</th>\n",
              "      <td>of</td>\n",
              "      <td>IN</td>\n",
              "    </tr>\n",
              "    <tr>\n",
              "      <th>26</th>\n",
              "      <td>soldiers</td>\n",
              "      <td>NNS</td>\n",
              "    </tr>\n",
              "    <tr>\n",
              "      <th>27</th>\n",
              "      <td>killed</td>\n",
              "      <td>VBN</td>\n",
              "    </tr>\n",
              "    <tr>\n",
              "      <th>28</th>\n",
              "      <td>in</td>\n",
              "      <td>IN</td>\n",
              "    </tr>\n",
              "    <tr>\n",
              "      <th>29</th>\n",
              "      <td>the</td>\n",
              "      <td>DT</td>\n",
              "    </tr>\n",
              "    <tr>\n",
              "      <th>30</th>\n",
              "      <td>conflict</td>\n",
              "      <td>NN</td>\n",
              "    </tr>\n",
              "    <tr>\n",
              "      <th>31</th>\n",
              "      <td>joined</td>\n",
              "      <td>VBD</td>\n",
              "    </tr>\n",
              "    <tr>\n",
              "      <th>32</th>\n",
              "      <td>the</td>\n",
              "      <td>DT</td>\n",
              "    </tr>\n",
              "    <tr>\n",
              "      <th>33</th>\n",
              "      <td>protesters</td>\n",
              "      <td>NNS</td>\n",
              "    </tr>\n",
              "    <tr>\n",
              "      <th>34</th>\n",
              "      <td>who</td>\n",
              "      <td>WP</td>\n",
              "    </tr>\n",
              "    <tr>\n",
              "      <th>35</th>\n",
              "      <td>carried</td>\n",
              "      <td>VBD</td>\n",
              "    </tr>\n",
              "    <tr>\n",
              "      <th>36</th>\n",
              "      <td>banners</td>\n",
              "      <td>NNS</td>\n",
              "    </tr>\n",
              "    <tr>\n",
              "      <th>37</th>\n",
              "      <td>with</td>\n",
              "      <td>IN</td>\n",
              "    </tr>\n",
              "    <tr>\n",
              "      <th>38</th>\n",
              "      <td>such</td>\n",
              "      <td>JJ</td>\n",
              "    </tr>\n",
              "    <tr>\n",
              "      <th>39</th>\n",
              "      <td>slogans</td>\n",
              "      <td>NNS</td>\n",
              "    </tr>\n",
              "    <tr>\n",
              "      <th>40</th>\n",
              "      <td>as</td>\n",
              "      <td>IN</td>\n",
              "    </tr>\n",
              "    <tr>\n",
              "      <th>41</th>\n",
              "      <td>\"</td>\n",
              "      <td>``</td>\n",
              "    </tr>\n",
              "    <tr>\n",
              "      <th>42</th>\n",
              "      <td>Bush</td>\n",
              "      <td>NNP</td>\n",
              "    </tr>\n",
              "    <tr>\n",
              "      <th>43</th>\n",
              "      <td>Number</td>\n",
              "      <td>NN</td>\n",
              "    </tr>\n",
              "    <tr>\n",
              "      <th>44</th>\n",
              "      <td>One</td>\n",
              "      <td>CD</td>\n",
              "    </tr>\n",
              "    <tr>\n",
              "      <th>45</th>\n",
              "      <td>Terrorist</td>\n",
              "      <td>NN</td>\n",
              "    </tr>\n",
              "    <tr>\n",
              "      <th>46</th>\n",
              "      <td>\"</td>\n",
              "      <td>``</td>\n",
              "    </tr>\n",
              "    <tr>\n",
              "      <th>47</th>\n",
              "      <td>and</td>\n",
              "      <td>CC</td>\n",
              "    </tr>\n",
              "    <tr>\n",
              "      <th>48</th>\n",
              "      <td>\"</td>\n",
              "      <td>``</td>\n",
              "    </tr>\n",
              "    <tr>\n",
              "      <th>49</th>\n",
              "      <td>Stop</td>\n",
              "      <td>VB</td>\n",
              "    </tr>\n",
              "  </tbody>\n",
              "</table>\n",
              "</div>"
            ],
            "text/plain": [
              "             word  pos\n",
              "0       Thousands  NNS\n",
              "1              of   IN\n",
              "2   demonstrators  NNS\n",
              "3            have  VBP\n",
              "4         marched  VBN\n",
              "5         through   IN\n",
              "6          London  NNP\n",
              "7              to   TO\n",
              "8         protest   VB\n",
              "9             the   DT\n",
              "10            war   NN\n",
              "11             in   IN\n",
              "12           Iraq  NNP\n",
              "13            and   CC\n",
              "14         demand   VB\n",
              "15            the   DT\n",
              "16     withdrawal   NN\n",
              "17             of   IN\n",
              "18        British   JJ\n",
              "19         troops  NNS\n",
              "20           from   IN\n",
              "21           that   DT\n",
              "22        country   NN\n",
              "23              .    .\n",
              "24       Families  NNS\n",
              "25             of   IN\n",
              "26       soldiers  NNS\n",
              "27         killed  VBN\n",
              "28             in   IN\n",
              "29            the   DT\n",
              "30       conflict   NN\n",
              "31         joined  VBD\n",
              "32            the   DT\n",
              "33     protesters  NNS\n",
              "34            who   WP\n",
              "35        carried  VBD\n",
              "36        banners  NNS\n",
              "37           with   IN\n",
              "38           such   JJ\n",
              "39        slogans  NNS\n",
              "40             as   IN\n",
              "41              \"   ``\n",
              "42           Bush  NNP\n",
              "43         Number   NN\n",
              "44            One   CD\n",
              "45      Terrorist   NN\n",
              "46              \"   ``\n",
              "47            and   CC\n",
              "48              \"   ``\n",
              "49           Stop   VB"
            ]
          },
          "metadata": {
            "tags": []
          },
          "execution_count": 5
        }
      ]
    },
    {
      "cell_type": "code",
      "metadata": {
        "id": "ake49Kr9YfzK"
      },
      "source": [
        "sentences=[]\n",
        "i=0\n",
        "while i<len(data):\n",
        "    tmp=[]\n",
        "    while (data.iloc[i,0])!=\".\" and data.iloc[i,1] !='.':\n",
        "        tmp.append(data.iloc[i,0])\n",
        "        i=i+1\n",
        "    tmp.append('.')\n",
        "    sentences.append(np.array(tmp))\n",
        "    i=i+1"
      ],
      "execution_count": 6,
      "outputs": []
    },
    {
      "cell_type": "code",
      "metadata": {
        "id": "lvTqyL89aH5W"
      },
      "source": [
        "tagged_sentences=[]\n",
        "i=0\n",
        "while i<len(data):\n",
        "    tmp=[]\n",
        "    while (data.iloc[i,0])!=\".\" and data.iloc[i,1] !='.':\n",
        "        tmp.append(data.iloc[i,1])\n",
        "        i=i+1\n",
        "    tmp.append('.')\n",
        "    tagged_sentences.append(np.array(tmp))\n",
        "    i=i+1"
      ],
      "execution_count": 7,
      "outputs": []
    },
    {
      "cell_type": "code",
      "metadata": {
        "colab": {
          "base_uri": "https://localhost:8080/"
        },
        "id": "o7oi23uuaH8B",
        "outputId": "d6fb354a-2666-41e7-a9b4-b43828afc74e"
      },
      "source": [
        "print(len(tagged_sentences)),\n",
        "    \n",
        "print(len(sentences))"
      ],
      "execution_count": 8,
      "outputs": [
        {
          "output_type": "stream",
          "text": [
            "13690\n",
            "13690\n"
          ],
          "name": "stdout"
        }
      ]
    },
    {
      "cell_type": "code",
      "metadata": {
        "id": "5njxYuWRaH_L"
      },
      "source": [
        "train_sentences, test_sentences, train_tags, test_tags = train_test_split(sentences, tagged_sentences, test_size=0.2)"
      ],
      "execution_count": 9,
      "outputs": []
    },
    {
      "cell_type": "markdown",
      "metadata": {
        "id": "dYTmX5a8facq"
      },
      "source": [
        "**Features from text.**"
      ]
    },
    {
      "cell_type": "code",
      "metadata": {
        "id": "lmCYYQQEaICw"
      },
      "source": [
        "def features(sentence,index):\n",
        "    return {\n",
        "        'is_first_capital':int(sentence[index][0].isupper()),\n",
        "        'is_first_word': int(index==0),\n",
        "        'is_last_word':int(index==len(sentence)-1),\n",
        "        'is_complete_capital': int(sentence[index].upper()==sentence[index]),\n",
        "        'prev_word':'' if index==0 else sentence[index-1],\n",
        "        'next_word':'' if index==len(sentence)-1 else sentence[index+1],\n",
        "        'is_numeric':int(sentence[index].isdigit()),\n",
        "        'is_alphanumeric': int(bool((re.match('^(?=.*[0-9]$)(?=.*[a-zA-Z])',sentence[index])))),\n",
        "        'prefix_1':sentence[index][0],\n",
        "        'prefix_2': sentence[index][:2],\n",
        "        'prefix_3':sentence[index][:3],\n",
        "        'prefix_4':sentence[index][:4],\n",
        "        'suffix_1':sentence[index][-1],\n",
        "        'suffix_2':sentence[index][-2:],\n",
        "        'suffix_3':sentence[index][-3:],\n",
        "        'suffix_4':sentence[index][-4:],\n",
        "        'word_has_hyphen': 1 if '-' in sentence[index] else 0\n",
        "        \n",
        "        \n",
        "    }"
      ],
      "execution_count": 10,
      "outputs": []
    },
    {
      "cell_type": "code",
      "metadata": {
        "id": "YDy4j3xnaIZP"
      },
      "source": [
        "def prepareData(tagged_sentences):\n",
        "    X=[]\n",
        "    for sentences in tagged_sentences:\n",
        "        X.append([features(sentences, index) for index in range(len(sentences))])\n",
        "    return X"
      ],
      "execution_count": 11,
      "outputs": []
    },
    {
      "cell_type": "code",
      "metadata": {
        "id": "WdCB2NKEYgDM"
      },
      "source": [
        "X_train = prepareData(train_sentences)\n",
        "y_train = train_tags\n",
        "X_test = prepareData(test_sentences)\n",
        "y_test =  test_tags"
      ],
      "execution_count": 12,
      "outputs": []
    },
    {
      "cell_type": "markdown",
      "metadata": {
        "id": "gUZyqZ1GdVad"
      },
      "source": [
        "**CRF Model.**"
      ]
    },
    {
      "cell_type": "code",
      "metadata": {
        "colab": {
          "base_uri": "https://localhost:8080/"
        },
        "id": "Pokglm-uYgKJ",
        "outputId": "720ad735-9aea-4b50-9532-59a244039536"
      },
      "source": [
        "crf = CRF(\n",
        "    algorithm='lbfgs',\n",
        "    c1=0.01,\n",
        "    c2=0.1,\n",
        "    max_iterations=100,\n",
        "    all_possible_transitions=True\n",
        ")\n",
        "crf.fit(X_train, y_train)"
      ],
      "execution_count": 13,
      "outputs": [
        {
          "output_type": "stream",
          "text": [
            "/usr/local/lib/python3.7/dist-packages/sklearn/base.py:197: FutureWarning: From version 0.24, get_params will raise an AttributeError if a parameter cannot be retrieved as an instance attribute. Previously it would return None.\n",
            "  FutureWarning)\n"
          ],
          "name": "stderr"
        },
        {
          "output_type": "execute_result",
          "data": {
            "text/plain": [
              "CRF(algorithm='lbfgs', all_possible_states=None, all_possible_transitions=True,\n",
              "    averaging=None, c=None, c1=0.01, c2=0.1, calibration_candidates=None,\n",
              "    calibration_eta=None, calibration_max_trials=None, calibration_rate=None,\n",
              "    calibration_samples=None, delta=None, epsilon=None, error_sensitive=None,\n",
              "    gamma=None, keep_tempfiles=None, linesearch=None, max_iterations=100,\n",
              "    max_linesearch=None, min_freq=None, model_filename=None, num_memories=None,\n",
              "    pa_type=None, period=None, trainer_cls=None, variance=None, verbose=False)"
            ]
          },
          "metadata": {
            "tags": []
          },
          "execution_count": 13
        }
      ]
    },
    {
      "cell_type": "markdown",
      "metadata": {
        "id": "3x2OBeX6elQo"
      },
      "source": [
        "*Predictions.*"
      ]
    },
    {
      "cell_type": "code",
      "metadata": {
        "colab": {
          "base_uri": "https://localhost:8080/"
        },
        "id": "ZT48LOiVYgY_",
        "outputId": "800817bb-0a69-4e3c-aaf3-02a70390711f"
      },
      "source": [
        "X_train[1]"
      ],
      "execution_count": 14,
      "outputs": [
        {
          "output_type": "execute_result",
          "data": {
            "text/plain": [
              "[{'is_alphanumeric': 0,\n",
              "  'is_complete_capital': 0,\n",
              "  'is_first_capital': 1,\n",
              "  'is_first_word': 1,\n",
              "  'is_last_word': 0,\n",
              "  'is_numeric': 0,\n",
              "  'next_word': 'soldiers',\n",
              "  'prefix_1': 'I',\n",
              "  'prefix_2': 'Is',\n",
              "  'prefix_3': 'Isr',\n",
              "  'prefix_4': 'Isra',\n",
              "  'prev_word': '',\n",
              "  'suffix_1': 'i',\n",
              "  'suffix_2': 'li',\n",
              "  'suffix_3': 'eli',\n",
              "  'suffix_4': 'aeli',\n",
              "  'word_has_hyphen': 0},\n",
              " {'is_alphanumeric': 0,\n",
              "  'is_complete_capital': 0,\n",
              "  'is_first_capital': 0,\n",
              "  'is_first_word': 0,\n",
              "  'is_last_word': 0,\n",
              "  'is_numeric': 0,\n",
              "  'next_word': 'opened',\n",
              "  'prefix_1': 's',\n",
              "  'prefix_2': 'so',\n",
              "  'prefix_3': 'sol',\n",
              "  'prefix_4': 'sold',\n",
              "  'prev_word': 'Israeli',\n",
              "  'suffix_1': 's',\n",
              "  'suffix_2': 'rs',\n",
              "  'suffix_3': 'ers',\n",
              "  'suffix_4': 'iers',\n",
              "  'word_has_hyphen': 0},\n",
              " {'is_alphanumeric': 0,\n",
              "  'is_complete_capital': 0,\n",
              "  'is_first_capital': 0,\n",
              "  'is_first_word': 0,\n",
              "  'is_last_word': 0,\n",
              "  'is_numeric': 0,\n",
              "  'next_word': 'fire',\n",
              "  'prefix_1': 'o',\n",
              "  'prefix_2': 'op',\n",
              "  'prefix_3': 'ope',\n",
              "  'prefix_4': 'open',\n",
              "  'prev_word': 'soldiers',\n",
              "  'suffix_1': 'd',\n",
              "  'suffix_2': 'ed',\n",
              "  'suffix_3': 'ned',\n",
              "  'suffix_4': 'ened',\n",
              "  'word_has_hyphen': 0},\n",
              " {'is_alphanumeric': 0,\n",
              "  'is_complete_capital': 0,\n",
              "  'is_first_capital': 0,\n",
              "  'is_first_word': 0,\n",
              "  'is_last_word': 0,\n",
              "  'is_numeric': 0,\n",
              "  'next_word': 'on',\n",
              "  'prefix_1': 'f',\n",
              "  'prefix_2': 'fi',\n",
              "  'prefix_3': 'fir',\n",
              "  'prefix_4': 'fire',\n",
              "  'prev_word': 'opened',\n",
              "  'suffix_1': 'e',\n",
              "  'suffix_2': 're',\n",
              "  'suffix_3': 'ire',\n",
              "  'suffix_4': 'fire',\n",
              "  'word_has_hyphen': 0},\n",
              " {'is_alphanumeric': 0,\n",
              "  'is_complete_capital': 0,\n",
              "  'is_first_capital': 0,\n",
              "  'is_first_word': 0,\n",
              "  'is_last_word': 0,\n",
              "  'is_numeric': 0,\n",
              "  'next_word': 'a',\n",
              "  'prefix_1': 'o',\n",
              "  'prefix_2': 'on',\n",
              "  'prefix_3': 'on',\n",
              "  'prefix_4': 'on',\n",
              "  'prev_word': 'fire',\n",
              "  'suffix_1': 'n',\n",
              "  'suffix_2': 'on',\n",
              "  'suffix_3': 'on',\n",
              "  'suffix_4': 'on',\n",
              "  'word_has_hyphen': 0},\n",
              " {'is_alphanumeric': 0,\n",
              "  'is_complete_capital': 0,\n",
              "  'is_first_capital': 0,\n",
              "  'is_first_word': 0,\n",
              "  'is_last_word': 0,\n",
              "  'is_numeric': 0,\n",
              "  'next_word': 'group',\n",
              "  'prefix_1': 'a',\n",
              "  'prefix_2': 'a',\n",
              "  'prefix_3': 'a',\n",
              "  'prefix_4': 'a',\n",
              "  'prev_word': 'on',\n",
              "  'suffix_1': 'a',\n",
              "  'suffix_2': 'a',\n",
              "  'suffix_3': 'a',\n",
              "  'suffix_4': 'a',\n",
              "  'word_has_hyphen': 0},\n",
              " {'is_alphanumeric': 0,\n",
              "  'is_complete_capital': 0,\n",
              "  'is_first_capital': 0,\n",
              "  'is_first_word': 0,\n",
              "  'is_last_word': 0,\n",
              "  'is_numeric': 0,\n",
              "  'next_word': 'of',\n",
              "  'prefix_1': 'g',\n",
              "  'prefix_2': 'gr',\n",
              "  'prefix_3': 'gro',\n",
              "  'prefix_4': 'grou',\n",
              "  'prev_word': 'a',\n",
              "  'suffix_1': 'p',\n",
              "  'suffix_2': 'up',\n",
              "  'suffix_3': 'oup',\n",
              "  'suffix_4': 'roup',\n",
              "  'word_has_hyphen': 0},\n",
              " {'is_alphanumeric': 0,\n",
              "  'is_complete_capital': 0,\n",
              "  'is_first_capital': 0,\n",
              "  'is_first_word': 0,\n",
              "  'is_last_word': 0,\n",
              "  'is_numeric': 0,\n",
              "  'next_word': 'people',\n",
              "  'prefix_1': 'o',\n",
              "  'prefix_2': 'of',\n",
              "  'prefix_3': 'of',\n",
              "  'prefix_4': 'of',\n",
              "  'prev_word': 'group',\n",
              "  'suffix_1': 'f',\n",
              "  'suffix_2': 'of',\n",
              "  'suffix_3': 'of',\n",
              "  'suffix_4': 'of',\n",
              "  'word_has_hyphen': 0},\n",
              " {'is_alphanumeric': 0,\n",
              "  'is_complete_capital': 0,\n",
              "  'is_first_capital': 0,\n",
              "  'is_first_word': 0,\n",
              "  'is_last_word': 0,\n",
              "  'is_numeric': 0,\n",
              "  'next_word': 'moving',\n",
              "  'prefix_1': 'p',\n",
              "  'prefix_2': 'pe',\n",
              "  'prefix_3': 'peo',\n",
              "  'prefix_4': 'peop',\n",
              "  'prev_word': 'of',\n",
              "  'suffix_1': 'e',\n",
              "  'suffix_2': 'le',\n",
              "  'suffix_3': 'ple',\n",
              "  'suffix_4': 'ople',\n",
              "  'word_has_hyphen': 0},\n",
              " {'is_alphanumeric': 0,\n",
              "  'is_complete_capital': 0,\n",
              "  'is_first_capital': 0,\n",
              "  'is_first_word': 0,\n",
              "  'is_last_word': 0,\n",
              "  'is_numeric': 0,\n",
              "  'next_word': 'in',\n",
              "  'prefix_1': 'm',\n",
              "  'prefix_2': 'mo',\n",
              "  'prefix_3': 'mov',\n",
              "  'prefix_4': 'movi',\n",
              "  'prev_word': 'people',\n",
              "  'suffix_1': 'g',\n",
              "  'suffix_2': 'ng',\n",
              "  'suffix_3': 'ing',\n",
              "  'suffix_4': 'ving',\n",
              "  'word_has_hyphen': 0},\n",
              " {'is_alphanumeric': 0,\n",
              "  'is_complete_capital': 0,\n",
              "  'is_first_capital': 0,\n",
              "  'is_first_word': 0,\n",
              "  'is_last_word': 0,\n",
              "  'is_numeric': 0,\n",
              "  'next_word': 'a',\n",
              "  'prefix_1': 'i',\n",
              "  'prefix_2': 'in',\n",
              "  'prefix_3': 'in',\n",
              "  'prefix_4': 'in',\n",
              "  'prev_word': 'moving',\n",
              "  'suffix_1': 'n',\n",
              "  'suffix_2': 'in',\n",
              "  'suffix_3': 'in',\n",
              "  'suffix_4': 'in',\n",
              "  'word_has_hyphen': 0},\n",
              " {'is_alphanumeric': 0,\n",
              "  'is_complete_capital': 0,\n",
              "  'is_first_capital': 0,\n",
              "  'is_first_word': 0,\n",
              "  'is_last_word': 0,\n",
              "  'is_numeric': 0,\n",
              "  'next_word': 'forbidden',\n",
              "  'prefix_1': 'a',\n",
              "  'prefix_2': 'a',\n",
              "  'prefix_3': 'a',\n",
              "  'prefix_4': 'a',\n",
              "  'prev_word': 'in',\n",
              "  'suffix_1': 'a',\n",
              "  'suffix_2': 'a',\n",
              "  'suffix_3': 'a',\n",
              "  'suffix_4': 'a',\n",
              "  'word_has_hyphen': 0},\n",
              " {'is_alphanumeric': 0,\n",
              "  'is_complete_capital': 0,\n",
              "  'is_first_capital': 0,\n",
              "  'is_first_word': 0,\n",
              "  'is_last_word': 0,\n",
              "  'is_numeric': 0,\n",
              "  'next_word': 'area',\n",
              "  'prefix_1': 'f',\n",
              "  'prefix_2': 'fo',\n",
              "  'prefix_3': 'for',\n",
              "  'prefix_4': 'forb',\n",
              "  'prev_word': 'a',\n",
              "  'suffix_1': 'n',\n",
              "  'suffix_2': 'en',\n",
              "  'suffix_3': 'den',\n",
              "  'suffix_4': 'dden',\n",
              "  'word_has_hyphen': 0},\n",
              " {'is_alphanumeric': 0,\n",
              "  'is_complete_capital': 0,\n",
              "  'is_first_capital': 0,\n",
              "  'is_first_word': 0,\n",
              "  'is_last_word': 0,\n",
              "  'is_numeric': 0,\n",
              "  'next_word': 'near',\n",
              "  'prefix_1': 'a',\n",
              "  'prefix_2': 'ar',\n",
              "  'prefix_3': 'are',\n",
              "  'prefix_4': 'area',\n",
              "  'prev_word': 'forbidden',\n",
              "  'suffix_1': 'a',\n",
              "  'suffix_2': 'ea',\n",
              "  'suffix_3': 'rea',\n",
              "  'suffix_4': 'area',\n",
              "  'word_has_hyphen': 0},\n",
              " {'is_alphanumeric': 0,\n",
              "  'is_complete_capital': 0,\n",
              "  'is_first_capital': 0,\n",
              "  'is_first_word': 0,\n",
              "  'is_last_word': 0,\n",
              "  'is_numeric': 0,\n",
              "  'next_word': 'Rafah',\n",
              "  'prefix_1': 'n',\n",
              "  'prefix_2': 'ne',\n",
              "  'prefix_3': 'nea',\n",
              "  'prefix_4': 'near',\n",
              "  'prev_word': 'area',\n",
              "  'suffix_1': 'r',\n",
              "  'suffix_2': 'ar',\n",
              "  'suffix_3': 'ear',\n",
              "  'suffix_4': 'near',\n",
              "  'word_has_hyphen': 0},\n",
              " {'is_alphanumeric': 0,\n",
              "  'is_complete_capital': 0,\n",
              "  'is_first_capital': 1,\n",
              "  'is_first_word': 0,\n",
              "  'is_last_word': 0,\n",
              "  'is_numeric': 0,\n",
              "  'next_word': ',',\n",
              "  'prefix_1': 'R',\n",
              "  'prefix_2': 'Ra',\n",
              "  'prefix_3': 'Raf',\n",
              "  'prefix_4': 'Rafa',\n",
              "  'prev_word': 'near',\n",
              "  'suffix_1': 'h',\n",
              "  'suffix_2': 'ah',\n",
              "  'suffix_3': 'fah',\n",
              "  'suffix_4': 'afah',\n",
              "  'word_has_hyphen': 0},\n",
              " {'is_alphanumeric': 0,\n",
              "  'is_complete_capital': 1,\n",
              "  'is_first_capital': 0,\n",
              "  'is_first_word': 0,\n",
              "  'is_last_word': 0,\n",
              "  'is_numeric': 0,\n",
              "  'next_word': 'killing',\n",
              "  'prefix_1': ',',\n",
              "  'prefix_2': ',',\n",
              "  'prefix_3': ',',\n",
              "  'prefix_4': ',',\n",
              "  'prev_word': 'Rafah',\n",
              "  'suffix_1': ',',\n",
              "  'suffix_2': ',',\n",
              "  'suffix_3': ',',\n",
              "  'suffix_4': ',',\n",
              "  'word_has_hyphen': 0},\n",
              " {'is_alphanumeric': 0,\n",
              "  'is_complete_capital': 0,\n",
              "  'is_first_capital': 0,\n",
              "  'is_first_word': 0,\n",
              "  'is_last_word': 0,\n",
              "  'is_numeric': 0,\n",
              "  'next_word': 'three',\n",
              "  'prefix_1': 'k',\n",
              "  'prefix_2': 'ki',\n",
              "  'prefix_3': 'kil',\n",
              "  'prefix_4': 'kill',\n",
              "  'prev_word': ',',\n",
              "  'suffix_1': 'g',\n",
              "  'suffix_2': 'ng',\n",
              "  'suffix_3': 'ing',\n",
              "  'suffix_4': 'ling',\n",
              "  'word_has_hyphen': 0},\n",
              " {'is_alphanumeric': 0,\n",
              "  'is_complete_capital': 0,\n",
              "  'is_first_capital': 0,\n",
              "  'is_first_word': 0,\n",
              "  'is_last_word': 0,\n",
              "  'is_numeric': 0,\n",
              "  'next_word': 'of',\n",
              "  'prefix_1': 't',\n",
              "  'prefix_2': 'th',\n",
              "  'prefix_3': 'thr',\n",
              "  'prefix_4': 'thre',\n",
              "  'prev_word': 'killing',\n",
              "  'suffix_1': 'e',\n",
              "  'suffix_2': 'ee',\n",
              "  'suffix_3': 'ree',\n",
              "  'suffix_4': 'hree',\n",
              "  'word_has_hyphen': 0},\n",
              " {'is_alphanumeric': 0,\n",
              "  'is_complete_capital': 0,\n",
              "  'is_first_capital': 0,\n",
              "  'is_first_word': 0,\n",
              "  'is_last_word': 0,\n",
              "  'is_numeric': 0,\n",
              "  'next_word': 'them',\n",
              "  'prefix_1': 'o',\n",
              "  'prefix_2': 'of',\n",
              "  'prefix_3': 'of',\n",
              "  'prefix_4': 'of',\n",
              "  'prev_word': 'three',\n",
              "  'suffix_1': 'f',\n",
              "  'suffix_2': 'of',\n",
              "  'suffix_3': 'of',\n",
              "  'suffix_4': 'of',\n",
              "  'word_has_hyphen': 0},\n",
              " {'is_alphanumeric': 0,\n",
              "  'is_complete_capital': 0,\n",
              "  'is_first_capital': 0,\n",
              "  'is_first_word': 0,\n",
              "  'is_last_word': 0,\n",
              "  'is_numeric': 0,\n",
              "  'next_word': '.',\n",
              "  'prefix_1': 't',\n",
              "  'prefix_2': 'th',\n",
              "  'prefix_3': 'the',\n",
              "  'prefix_4': 'them',\n",
              "  'prev_word': 'of',\n",
              "  'suffix_1': 'm',\n",
              "  'suffix_2': 'em',\n",
              "  'suffix_3': 'hem',\n",
              "  'suffix_4': 'them',\n",
              "  'word_has_hyphen': 0},\n",
              " {'is_alphanumeric': 0,\n",
              "  'is_complete_capital': 1,\n",
              "  'is_first_capital': 0,\n",
              "  'is_first_word': 0,\n",
              "  'is_last_word': 1,\n",
              "  'is_numeric': 0,\n",
              "  'next_word': '',\n",
              "  'prefix_1': '.',\n",
              "  'prefix_2': '.',\n",
              "  'prefix_3': '.',\n",
              "  'prefix_4': '.',\n",
              "  'prev_word': 'them',\n",
              "  'suffix_1': '.',\n",
              "  'suffix_2': '.',\n",
              "  'suffix_3': '.',\n",
              "  'suffix_4': '.',\n",
              "  'word_has_hyphen': 0}]"
            ]
          },
          "metadata": {
            "tags": []
          },
          "execution_count": 14
        }
      ]
    },
    {
      "cell_type": "code",
      "metadata": {
        "colab": {
          "base_uri": "https://localhost:8080/"
        },
        "id": "dQDjevzYYSt_",
        "outputId": "b92eddf5-1689-4286-d33f-d2cb374554a1"
      },
      "source": [
        "y_train[1]"
      ],
      "execution_count": 15,
      "outputs": [
        {
          "output_type": "execute_result",
          "data": {
            "text/plain": [
              "array(['JJ', 'NNS', 'VBD', 'NN', 'IN', 'DT', 'NN', 'IN', 'NNS', 'VBG',\n",
              "       'IN', 'DT', 'JJ', 'NN', 'IN', 'NNP', ',', 'VBG', 'CD', 'IN', 'PRP',\n",
              "       '.'], dtype='<U3')"
            ]
          },
          "metadata": {
            "tags": []
          },
          "execution_count": 15
        }
      ]
    },
    {
      "cell_type": "code",
      "metadata": {
        "id": "Lguz0m1EYS1s"
      },
      "source": [
        "y_pred=crf.predict(X_test)\n",
        "y_pred_train=crf.predict(X_train)"
      ],
      "execution_count": 16,
      "outputs": []
    },
    {
      "cell_type": "markdown",
      "metadata": {
        "id": "V2qsBpVOd6kS"
      },
      "source": [
        "**F1 Score.**"
      ]
    },
    {
      "cell_type": "code",
      "metadata": {
        "colab": {
          "base_uri": "https://localhost:8080/"
        },
        "id": "rncMIlscYS9H",
        "outputId": "8fbe32a2-58ba-4064-b19c-d293b680320b"
      },
      "source": [
        "#F1 score test\n",
        "metrics.flat_f1_score(y_test, y_pred,average='weighted',labels=crf.classes_)"
      ],
      "execution_count": 17,
      "outputs": [
        {
          "output_type": "stream",
          "text": [
            "/usr/local/lib/python3.7/dist-packages/sklearn/metrics/_classification.py:1515: UndefinedMetricWarning: F-score is ill-defined and being set to 0.0 in labels with no true nor predicted samples. Use `zero_division` parameter to control this behavior.\n",
            "  average, \"true nor predicted\", 'F-score is', len(true_sum)\n"
          ],
          "name": "stderr"
        },
        {
          "output_type": "execute_result",
          "data": {
            "text/plain": [
              "0.9806388562072053"
            ]
          },
          "metadata": {
            "tags": []
          },
          "execution_count": 17
        }
      ]
    },
    {
      "cell_type": "code",
      "metadata": {
        "colab": {
          "base_uri": "https://localhost:8080/"
        },
        "id": "rx_AFwuccFot",
        "outputId": "70d6ac91-6863-4e2c-ecb4-99c332f93064"
      },
      "source": [
        "#F1 score train\n",
        "metrics.flat_f1_score(y_train, y_pred_train,average='weighted',labels=crf.classes_)"
      ],
      "execution_count": 18,
      "outputs": [
        {
          "output_type": "execute_result",
          "data": {
            "text/plain": [
              "0.9970536359029604"
            ]
          },
          "metadata": {
            "tags": []
          },
          "execution_count": 18
        }
      ]
    },
    {
      "cell_type": "markdown",
      "metadata": {
        "id": "fFfuqEAieCbU"
      },
      "source": [
        "**Accuracy Score.**"
      ]
    },
    {
      "cell_type": "code",
      "metadata": {
        "colab": {
          "base_uri": "https://localhost:8080/"
        },
        "id": "HSXTdde2cFro",
        "outputId": "09f38552-a113-4b4a-9210-ade0b7d96728"
      },
      "source": [
        "#Accuracy score test\n",
        "metrics.flat_accuracy_score(y_test,y_pred)"
      ],
      "execution_count": 19,
      "outputs": [
        {
          "output_type": "execute_result",
          "data": {
            "text/plain": [
              "0.9806596297170607"
            ]
          },
          "metadata": {
            "tags": []
          },
          "execution_count": 19
        }
      ]
    },
    {
      "cell_type": "code",
      "metadata": {
        "colab": {
          "base_uri": "https://localhost:8080/"
        },
        "id": "rXQJYaGAcFu-",
        "outputId": "19800d9f-aff9-406c-ce6e-023d06659927"
      },
      "source": [
        "#Accuracy score train\n",
        "metrics.flat_accuracy_score(y_train,y_pred_train)"
      ],
      "execution_count": 20,
      "outputs": [
        {
          "output_type": "execute_result",
          "data": {
            "text/plain": [
              "0.9970536779158823"
            ]
          },
          "metadata": {
            "tags": []
          },
          "execution_count": 20
        }
      ]
    },
    {
      "cell_type": "markdown",
      "metadata": {
        "id": "RLNUEVRlc-Jy"
      },
      "source": [
        "**Classification Report.**"
      ]
    },
    {
      "cell_type": "code",
      "metadata": {
        "colab": {
          "base_uri": "https://localhost:8080/"
        },
        "id": "8St0RaBocF4m",
        "outputId": "84f8424c-e835-499a-c1bc-5f2a138b94df"
      },
      "source": [
        "print(metrics.flat_classification_report(\n",
        "    y_test, y_pred, labels=crf.classes_, digits=3\n",
        "))"
      ],
      "execution_count": 21,
      "outputs": [
        {
          "output_type": "stream",
          "text": [
            "/usr/local/lib/python3.7/dist-packages/sklearn/metrics/_classification.py:1272: UndefinedMetricWarning: Precision and F-score are ill-defined and being set to 0.0 in labels with no predicted samples. Use `zero_division` parameter to control this behavior.\n",
            "  _warn_prf(average, modifier, msg_start, len(result))\n",
            "/usr/local/lib/python3.7/dist-packages/sklearn/metrics/_classification.py:1272: UndefinedMetricWarning: Recall and F-score are ill-defined and being set to 0.0 in labels with no true samples. Use `zero_division` parameter to control this behavior.\n",
            "  _warn_prf(average, modifier, msg_start, len(result))\n"
          ],
          "name": "stderr"
        },
        {
          "output_type": "stream",
          "text": [
            "              precision    recall  f1-score   support\n",
            "\n",
            "         NNP      0.975     0.987     0.981      7375\n",
            "         VBD      0.955     0.973     0.964      2198\n",
            "          JJ      0.952     0.954     0.953      4478\n",
            "          NN      0.974     0.970     0.972      8329\n",
            "          IN      0.993     0.994     0.993      6860\n",
            "          DT      0.999     0.997     0.998      5635\n",
            "         NNS      0.986     0.988     0.987      4267\n",
            "         PRP      0.998     0.993     0.995       808\n",
            "          TO      0.990     0.997     0.993      1295\n",
            "         VBN      0.960     0.941     0.950      1833\n",
            "           ,      0.999     1.000     1.000      1803\n",
            "         WRB      1.000     0.992     0.996       128\n",
            "         VBZ      0.984     0.976     0.980      1408\n",
            "          RB      0.967     0.956     0.961      1154\n",
            "           .      1.000     1.000     1.000      2738\n",
            "         VBG      0.964     0.962     0.963      1099\n",
            "          CD      0.998     0.992     0.995      1262\n",
            "         POS      0.998     1.000     0.999       606\n",
            "         VBP      0.973     0.970     0.971       923\n",
            "          CC      1.000     0.996     0.998      1337\n",
            "          VB      0.969     0.958     0.964      1434\n",
            "        PRP$      0.994     0.996     0.995       480\n",
            "         JJR      0.977     0.939     0.958       181\n",
            "          MD      0.998     0.995     0.996       419\n",
            "         RBR      0.909     0.833     0.870        60\n",
            "         WDT      0.925     0.968     0.946       190\n",
            "         RBS      0.900     0.900     0.900        10\n",
            "         JJS      0.987     0.962     0.975       159\n",
            "           $      1.000     1.000     1.000        47\n",
            "          WP      0.992     1.000     0.996       132\n",
            "        NNPS      0.894     0.876     0.885       145\n",
            "          EX      1.000     1.000     1.000        33\n",
            "           :      0.925     0.860     0.892        43\n",
            "          RP      0.962     0.919     0.940       136\n",
            "          ``      1.000     1.000     1.000       196\n",
            "         LRB      1.000     1.000     1.000        38\n",
            "         RRB      1.000     1.000     1.000        38\n",
            "         PDT      1.000     0.875     0.933         8\n",
            "           ;      1.000     0.846     0.917        13\n",
            "         WP$      1.000     1.000     1.000         8\n",
            "          UH      0.000     0.000     0.000         0\n",
            "       lemma      0.000     0.000     0.000         0\n",
            "\n",
            "   micro avg      0.981     0.981     0.981     59306\n",
            "   macro avg      0.931     0.918     0.924     59306\n",
            "weighted avg      0.981     0.981     0.981     59306\n",
            "\n"
          ],
          "name": "stdout"
        }
      ]
    }
  ]
}